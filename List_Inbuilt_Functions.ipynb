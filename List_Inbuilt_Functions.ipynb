{
  "nbformat": 4,
  "nbformat_minor": 0,
  "metadata": {
    "colab": {
      "provenance": [],
      "include_colab_link": true
    },
    "kernelspec": {
      "name": "python3",
      "display_name": "Python 3"
    },
    "language_info": {
      "name": "python"
    }
  },
  "cells": [
    {
      "cell_type": "markdown",
      "metadata": {
        "id": "view-in-github",
        "colab_type": "text"
      },
      "source": [
        "<a href=\"https://colab.research.google.com/github/grgfatta86/Pythonpractices/blob/main/List_Inbuilt_Functions.ipynb\" target=\"_parent\"><img src=\"https://colab.research.google.com/assets/colab-badge.svg\" alt=\"Open In Colab\"/></a>"
      ]
    },
    {
      "cell_type": "code",
      "execution_count": null,
      "metadata": {
        "id": "7HL9MosV1Pc2"
      },
      "outputs": [],
      "source": [
        "# LIST ARE MUTABLE\n",
        "list_demo=[1,2,3,4,5,6]\n",
        "list_demo[1]=88\n",
        "list_demo"
      ]
    },
    {
      "cell_type": "code",
      "source": [
        "# Append function helps us add value at the last index of string\n",
        "list_demo.append(\"Hello\")\n",
        "list_demo"
      ],
      "metadata": {
        "id": "AgMIMt892Gpo"
      },
      "execution_count": null,
      "outputs": []
    },
    {
      "cell_type": "code",
      "source": [
        "# 1 data type for sorting\n",
        "list_demo=[1,42,3,88,5,6]\n",
        "list_demo.sort(reverse=True)\n",
        "list_demo"
      ],
      "metadata": {
        "id": "xf5yvbqc2JGw"
      },
      "execution_count": null,
      "outputs": []
    },
    {
      "cell_type": "code",
      "source": [
        "# 1 data type for sorting\n",
        "list_demo=['b','c','a','d','1','2']\n",
        "list_demo.sort()\n",
        "list_demo"
      ],
      "metadata": {
        "id": "Y8GVcCpW2KiY"
      },
      "execution_count": null,
      "outputs": []
    },
    {
      "cell_type": "code",
      "source": [
        "list_demo=['b','c','a','d','1','2']\n",
        "list_demo_2=['hello','Python']\n",
        "list_demo.append(list_demo_2)\n",
        "print(list_demo)\n",
        "print(list_demo[-1])"
      ],
      "metadata": {
        "colab": {
          "base_uri": "https://localhost:8080/"
        },
        "id": "5bpGX0sr2XnI",
        "outputId": "3afe02ee-bb9b-4aaf-bb8e-c3223f3454b9"
      },
      "execution_count": null,
      "outputs": [
        {
          "output_type": "stream",
          "name": "stdout",
          "text": [
            "['b', 'c', 'a', 'd', '1', '2', ['hello', 'Python']]\n",
            "['hello', 'Python']\n"
          ]
        }
      ]
    },
    {
      "cell_type": "code",
      "source": [
        "list_demo=['b','c','a','d','1','2']\n",
        "list_demo_2=['hello','Python']\n",
        "list_demo.extend(list_demo_2)\n",
        "print(list_demo)\n",
        "print(list_demo[-1])"
      ],
      "metadata": {
        "colab": {
          "base_uri": "https://localhost:8080/"
        },
        "id": "IeT10fAK26Rf",
        "outputId": "cd12c388-ee52-400d-a32f-d32828fecb65"
      },
      "execution_count": null,
      "outputs": [
        {
          "output_type": "stream",
          "name": "stdout",
          "text": [
            "['b', 'c', 'a', 'd', '1', '2', 'hello', 'Python']\n",
            "Python\n"
          ]
        }
      ]
    },
    {
      "cell_type": "code",
      "source": [
        "list_demo=['b','c','a','d','1','2']\n",
        "list_demo.reverse"
      ],
      "metadata": {
        "id": "LjrLhpNf3gAa"
      },
      "execution_count": null,
      "outputs": []
    },
    {
      "cell_type": "code",
      "source": [
        "list_demo=['Harry',\"Potter\",'and','The','goblet',\"of\",'Fire']\n",
        "\n",
        "# +ve indexing +ve slicing (left to right)\n",
        "print(list_demo[0:len(list_demo):1])\n",
        "\n",
        "# -ve indexing -ve slicing (right to left)\n",
        "print(list_demo[-1:-(len(list_demo)+1):-1])\n",
        "\n",
        "# +ve indexing -ve slicing (right to left)\n",
        "print(list_demo[6::-1])\n",
        "\n",
        "# -ve indexing +ve slicing (left to right)\n",
        "print(list_demo[-7::1])"
      ],
      "metadata": {
        "colab": {
          "base_uri": "https://localhost:8080/"
        },
        "id": "KLWaZKZ16fEX",
        "outputId": "fe6127c2-89bd-41ca-88fb-baefa1617eb1"
      },
      "execution_count": null,
      "outputs": [
        {
          "output_type": "stream",
          "name": "stdout",
          "text": [
            "['Harry', 'Potter', 'and', 'The', 'goblet', 'of', 'Fire']\n",
            "['Fire', 'of', 'goblet', 'The', 'and', 'Potter', 'Harry']\n",
            "['Fire', 'of', 'goblet', 'The', 'and', 'Potter', 'Harry']\n",
            "['Harry', 'Potter', 'and', 'The', 'goblet', 'of', 'Fire']\n"
          ]
        }
      ]
    }
  ]
}