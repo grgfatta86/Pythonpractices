{
  "nbformat": 4,
  "nbformat_minor": 0,
  "metadata": {
    "colab": {
      "provenance": [],
      "authorship_tag": "ABX9TyP3tY0nW9A8SMxtPpXeVyTc",
      "include_colab_link": true
    },
    "kernelspec": {
      "name": "python3",
      "display_name": "Python 3"
    },
    "language_info": {
      "name": "python"
    }
  },
  "cells": [
    {
      "cell_type": "markdown",
      "metadata": {
        "id": "view-in-github",
        "colab_type": "text"
      },
      "source": [
        "<a href=\"https://colab.research.google.com/github/grgfatta86/Pythonpractices/blob/main/For_loop__practices_may8_fatta.ipynb\" target=\"_parent\"><img src=\"https://colab.research.google.com/assets/colab-badge.svg\" alt=\"Open In Colab\"/></a>"
      ]
    },
    {
      "cell_type": "code",
      "source": [
        "# For loop are use for if you know there is start and end.\n",
        "# Data ise when there is definite condition and length then you can run the for loop.\n",
        "# For loops are use when definite condition you know like 10th times, 20 times. then you use loop."
      ],
      "metadata": {
        "id": "PNX1-3lJN3ak"
      },
      "execution_count": null,
      "outputs": []
    },
    {
      "cell_type": "code",
      "source": [
        "#start, stop, step.\n",
        "#stop-1\n",
        "for i in range(1,10,2):\n",
        "  print(i)"
      ],
      "metadata": {
        "colab": {
          "base_uri": "https://localhost:8080/"
        },
        "id": "AI_q9gH4Q5Sm",
        "outputId": "51fb5a6e-af57-4df6-cfb3-2bd3d8a89b84"
      },
      "execution_count": 2,
      "outputs": [
        {
          "output_type": "stream",
          "name": "stdout",
          "text": [
            "1\n",
            "3\n",
            "5\n",
            "7\n",
            "9\n"
          ]
        }
      ]
    },
    {
      "cell_type": "code",
      "source": [
        "#Nested loop\n",
        "for i in range(1,5,1):\n",
        "  for j in range(i*2):\n",
        "    print(j)\n",
        "  print(\"=============\"+str(i)+\"=========\")\n"
      ],
      "metadata": {
        "colab": {
          "base_uri": "https://localhost:8080/"
        },
        "id": "HsQVoshITH37",
        "outputId": "4a3d0f07-d668-4673-a567-3767c16cb841"
      },
      "execution_count": 5,
      "outputs": [
        {
          "output_type": "stream",
          "name": "stdout",
          "text": [
            "0\n",
            "1\n",
            "=============1=========\n",
            "0\n",
            "1\n",
            "2\n",
            "3\n",
            "=============2=========\n",
            "0\n",
            "1\n",
            "2\n",
            "3\n",
            "4\n",
            "5\n",
            "=============3=========\n",
            "0\n",
            "1\n",
            "2\n",
            "3\n",
            "4\n",
            "5\n",
            "6\n",
            "7\n",
            "=============4=========\n"
          ]
        }
      ]
    },
    {
      "cell_type": "code",
      "source": [
        "# 1) check if a number is prime or not?\n",
        "n=9\n",
        "#2,3,4,5..(n//2=4.5=5)\n",
        "flag=True\n",
        "if n <=1:\n",
        "  print(str(n)+\" is a prime number\")\n",
        "## n//2 sure tesko half le divisible bhayo bhane not a prime number\n",
        "\n",
        "for i in range(2, n//2):\n",
        "  if n%i == 0:\n",
        "    flage=False\n",
        "  if flag:\n",
        "    print(\"Prime Number\")\n",
        "  else:\n",
        "    print(\"Not A Prime Number\")\n"
      ],
      "metadata": {
        "colab": {
          "base_uri": "https://localhost:8080/"
        },
        "id": "J1H_YCGNWsPb",
        "outputId": "9976edaa-c522-4da2-951a-d0bde8824ee5"
      },
      "execution_count": 15,
      "outputs": [
        {
          "output_type": "stream",
          "name": "stdout",
          "text": [
            "Prime Number\n",
            "Prime Number\n"
          ]
        }
      ]
    },
    {
      "cell_type": "code",
      "source": [
        "n =13\n",
        "\n",
        "x=True\n",
        "\n",
        "for i in range(2, n):\n",
        "  if n%i==0:\n",
        "    x=False\n",
        "\n",
        "if x==True:\n",
        "    print(\"Prime Number\")\n",
        "else:\n",
        "    print(\"Not Prime\")\n",
        "\n"
      ],
      "metadata": {
        "colab": {
          "base_uri": "https://localhost:8080/"
        },
        "id": "RNBEVzCKiTo8",
        "outputId": "1757831c-8257-4f11-ca4d-4fe572d9d7c2"
      },
      "execution_count": 17,
      "outputs": [
        {
          "output_type": "stream",
          "name": "stdout",
          "text": [
            "Prime Number\n"
          ]
        }
      ]
    }
  ]
}