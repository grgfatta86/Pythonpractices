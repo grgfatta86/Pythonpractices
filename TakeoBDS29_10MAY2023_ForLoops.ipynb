{
  "nbformat": 4,
  "nbformat_minor": 0,
  "metadata": {
    "colab": {
      "provenance": [],
      "include_colab_link": true
    },
    "kernelspec": {
      "name": "python3",
      "display_name": "Python 3"
    },
    "language_info": {
      "name": "python"
    }
  },
  "cells": [
    {
      "cell_type": "markdown",
      "metadata": {
        "id": "view-in-github",
        "colab_type": "text"
      },
      "source": [
        "<a href=\"https://colab.research.google.com/github/grgfatta86/Pythonpractices/blob/main/TakeoBDS29_10MAY2023_ForLoops.ipynb\" target=\"_parent\"><img src=\"https://colab.research.google.com/assets/colab-badge.svg\" alt=\"Open In Colab\"/></a>"
      ]
    },
    {
      "cell_type": "code",
      "execution_count": null,
      "metadata": {
        "colab": {
          "base_uri": "https://localhost:8080/",
          "height": 36
        },
        "id": "NDxnlchLvcQn",
        "outputId": "f550e142-0521-4f79-ddd9-bd253650dd86"
      },
      "outputs": [
        {
          "output_type": "execute_result",
          "data": {
            "text/plain": [
              "'\\nthis is python program\\nwe are adding two numbers\\nfirst I have to convert the number into string and\\nlater into interger\\n'"
            ],
            "application/vnd.google.colaboratory.intrinsic+json": {
              "type": "string"
            }
          },
          "metadata": {},
          "execution_count": 1
        }
      ],
      "source": [
        "\"\"\"\n",
        "this is python program\n",
        "we are adding two numbers\n",
        "first I have to convert the number into string and\n",
        "later into interger\n",
        "\"\"\""
      ]
    },
    {
      "cell_type": "code",
      "source": [
        "'''\n",
        "this is python program\n",
        "we are adding two numbers\n",
        "first I have to convert the number into string and\n",
        "later into interger\n",
        "'''"
      ],
      "metadata": {
        "colab": {
          "base_uri": "https://localhost:8080/",
          "height": 36
        },
        "id": "Wp6QGSjlv3ML",
        "outputId": "37495e4d-8621-453e-a15f-427fd556224e"
      },
      "execution_count": null,
      "outputs": [
        {
          "output_type": "execute_result",
          "data": {
            "text/plain": [
              "'\\nthis is python program\\nwe are adding two numbers\\nfirst I have to convert the number into string and\\nlater into interger\\n'"
            ],
            "application/vnd.google.colaboratory.intrinsic+json": {
              "type": "string"
            }
          },
          "metadata": {},
          "execution_count": 2
        }
      ]
    },
    {
      "cell_type": "code",
      "source": [
        "# this is comment"
      ],
      "metadata": {
        "id": "Txfr3Z_ov7tC"
      },
      "execution_count": null,
      "outputs": []
    },
    {
      "cell_type": "code",
      "source": [
        "a=9\n",
        "\n",
        "if a < 10:\n",
        "  print(\"a < 10\")\n",
        "  if a < 25:\n",
        "    print(\"a < 25\")\n",
        "    if a < 40:\n",
        "      print(\"a < 40\")\n",
        "      if a < 55:\n",
        "        print(\"a < 55\")\n",
        "        if a < 70:\n",
        "          print(\"a < 70\")\n",
        "          if a < 85:\n",
        "            print(\"a < 85\")\n",
        "            if a < 100:\n",
        "              print(\"a < 100\")\n",
        "            else:\n",
        "              print(\"a < 100 else\")\n",
        "          else:\n",
        "            print(\"a < 85 else\")\n",
        "        else:\n",
        "          print(\"a < 70 else\")\n",
        "      else:\n",
        "        print(\"a < 55 else\")\n",
        "    else:\n",
        "      print(\"a < 40 else\")\n",
        "  else:\n",
        "    print(\"a < 25 else\")\n",
        "else:\n",
        "  print(\"a < 10 else\")"
      ],
      "metadata": {
        "colab": {
          "base_uri": "https://localhost:8080/"
        },
        "id": "7fBsH53G0RYs",
        "outputId": "cc04c951-26d9-4b91-ccdd-65103cb5b6f3"
      },
      "execution_count": null,
      "outputs": [
        {
          "output_type": "stream",
          "name": "stdout",
          "text": [
            "a < 10\n",
            "a < 25\n",
            "a < 40\n",
            "a < 55\n",
            "a < 70\n",
            "a < 85\n",
            "a < 100\n"
          ]
        }
      ]
    },
    {
      "cell_type": "code",
      "source": [
        "a=100\n",
        "\n",
        "if a > 10:\n",
        "  print(\"a > 10\")\n",
        "  if a > 25:\n",
        "    print(\"a > 25\")\n",
        "    if a > 40:\n",
        "      print(\"a > 40\")\n",
        "      if a > 55:\n",
        "        print(\"a > 55\")\n",
        "        if a > 70:\n",
        "          print(\"a > 70\")\n",
        "          if a > 85:\n",
        "            print(\"a > 85\")\n",
        "            if a > 100:\n",
        "              print(\"a > 100\")\n",
        "            else:\n",
        "              print(\"a > 100 else\")\n",
        "          else:\n",
        "            print(\"a > 85 else\")\n",
        "        else:\n",
        "          print(\"a > 70 else\")\n",
        "      else:\n",
        "        print(\"a > 55 else\")\n",
        "    else:\n",
        "      print(\"a > 40 else\")\n",
        "  else:\n",
        "    print(\"a > 25 else\")\n",
        "else:\n",
        "  print(\"a > 10 else\")"
      ],
      "metadata": {
        "colab": {
          "base_uri": "https://localhost:8080/"
        },
        "id": "HSMkmO393LTN",
        "outputId": "b057e91b-77a6-416f-c131-af3ec8e69349"
      },
      "execution_count": null,
      "outputs": [
        {
          "output_type": "stream",
          "name": "stdout",
          "text": [
            "a > 10\n",
            "a > 25\n",
            "a > 40\n",
            "a > 55\n",
            "a > 70\n",
            "a > 85\n",
            "a > 100 else\n"
          ]
        }
      ]
    },
    {
      "cell_type": "code",
      "source": [
        "lst1 = [1,2,3,4,5,6,7,8,9,10,11,12,13]\n",
        "for i in lst1:\n",
        "  print(i)"
      ],
      "metadata": {
        "colab": {
          "base_uri": "https://localhost:8080/"
        },
        "id": "125PlXO24wNm",
        "outputId": "a5af13c4-237b-4ec3-8478-280c49a61b5d"
      },
      "execution_count": null,
      "outputs": [
        {
          "output_type": "stream",
          "name": "stdout",
          "text": [
            "1\n",
            "2\n",
            "3\n",
            "4\n",
            "5\n",
            "6\n",
            "7\n",
            "8\n",
            "9\n",
            "10\n",
            "11\n",
            "12\n",
            "13\n"
          ]
        }
      ]
    },
    {
      "cell_type": "code",
      "source": [
        "tup1 = ('a','b','c','d','e','f','g','h','i','j','k','l','m','n','o','p')\n",
        "for i in tup1:\n",
        "  print(i)"
      ],
      "metadata": {
        "colab": {
          "base_uri": "https://localhost:8080/"
        },
        "id": "7rjvbXbN54v3",
        "outputId": "7b3ccb44-a4ae-4c82-f115-de809ed54e29"
      },
      "execution_count": null,
      "outputs": [
        {
          "output_type": "stream",
          "name": "stdout",
          "text": [
            "a\n",
            "b\n",
            "c\n",
            "d\n",
            "e\n",
            "f\n",
            "g\n",
            "h\n",
            "i\n",
            "j\n",
            "k\n",
            "l\n",
            "m\n",
            "n\n",
            "o\n",
            "p\n"
          ]
        }
      ]
    },
    {
      "cell_type": "code",
      "source": [
        "set1 = {True,False,None,'python',\"PYTHON\",'Python',3.14,23+71j,0,'python',1,\"PYTHON\",2,'Python',3,3.14,23+71j}\n",
        "for i in set1:\n",
        "  print(i)"
      ],
      "metadata": {
        "colab": {
          "base_uri": "https://localhost:8080/"
        },
        "id": "VRPmz43K6nQ9",
        "outputId": "c9bab0e2-b851-4cf7-8317-7a666f3ec7c0"
      },
      "execution_count": null,
      "outputs": [
        {
          "output_type": "stream",
          "name": "stdout",
          "text": [
            "False\n",
            "True\n",
            "2\n",
            "PYTHON\n",
            "3.14\n",
            "3\n",
            "(23+71j)\n",
            "None\n",
            "python\n",
            "Python\n"
          ]
        }
      ]
    },
    {
      "cell_type": "code",
      "source": [
        "dict1 = {'a':'apple', 'b':'banana', 'c': 'cherries'}\n",
        "for i in dict1:\n",
        "  print(i)"
      ],
      "metadata": {
        "colab": {
          "base_uri": "https://localhost:8080/"
        },
        "id": "A1JPOPjy8J1d",
        "outputId": "5fb3cf13-fa12-4648-da62-832cf6fb5c11"
      },
      "execution_count": null,
      "outputs": [
        {
          "output_type": "stream",
          "name": "stdout",
          "text": [
            "a\n",
            "b\n",
            "c\n"
          ]
        }
      ]
    },
    {
      "cell_type": "code",
      "source": [
        "dict1 = {'a':'apple', 'b':'banana', 'c': 'cherries'}\n",
        "for i in dict1.values():\n",
        "  print(i)"
      ],
      "metadata": {
        "colab": {
          "base_uri": "https://localhost:8080/"
        },
        "id": "H02LmtN383_E",
        "outputId": "6277cea2-0b7e-4769-f071-0807854a3eea"
      },
      "execution_count": null,
      "outputs": [
        {
          "output_type": "stream",
          "name": "stdout",
          "text": [
            "apple\n",
            "banana\n",
            "cherries\n"
          ]
        }
      ]
    },
    {
      "cell_type": "code",
      "source": [
        "str1 = '''pneum'on\"oultra\"micro'sc\"pic'silicov'olc\"anoc'on\"iosis'''\n",
        "for i in str1:\n",
        "  print(i)"
      ],
      "metadata": {
        "colab": {
          "base_uri": "https://localhost:8080/"
        },
        "id": "mVuWqhEG8k_u",
        "outputId": "975c601b-eeb5-479a-f32e-f99d7a63604c"
      },
      "execution_count": null,
      "outputs": [
        {
          "output_type": "stream",
          "name": "stdout",
          "text": [
            "p\n",
            "n\n",
            "e\n",
            "u\n",
            "m\n",
            "'\n",
            "o\n",
            "n\n",
            "\"\n",
            "o\n",
            "u\n",
            "l\n",
            "t\n",
            "r\n",
            "a\n",
            "\"\n",
            "m\n",
            "i\n",
            "c\n",
            "r\n",
            "o\n",
            "'\n",
            "s\n",
            "c\n",
            "\"\n",
            "p\n",
            "i\n",
            "c\n",
            "'\n",
            "s\n",
            "i\n",
            "l\n",
            "i\n",
            "c\n",
            "o\n",
            "v\n",
            "'\n",
            "o\n",
            "l\n",
            "c\n",
            "\"\n",
            "a\n",
            "n\n",
            "o\n",
            "c\n",
            "'\n",
            "o\n",
            "n\n",
            "\"\n",
            "i\n",
            "o\n",
            "s\n",
            "i\n",
            "s\n"
          ]
        }
      ]
    },
    {
      "cell_type": "code",
      "source": [
        "for i in range(10):\n",
        "  print(i)"
      ],
      "metadata": {
        "colab": {
          "base_uri": "https://localhost:8080/"
        },
        "id": "zMHrvaUJ-ETn",
        "outputId": "1b0795a2-72b1-4640-c8a5-2aaccb30feb2"
      },
      "execution_count": null,
      "outputs": [
        {
          "output_type": "stream",
          "name": "stdout",
          "text": [
            "0\n",
            "1\n",
            "2\n",
            "3\n",
            "4\n",
            "5\n",
            "6\n",
            "7\n",
            "8\n",
            "9\n"
          ]
        }
      ]
    },
    {
      "cell_type": "code",
      "source": [
        "for i in range(0,10):\n",
        "  print(i)"
      ],
      "metadata": {
        "colab": {
          "base_uri": "https://localhost:8080/"
        },
        "id": "M5s0EeEV-Rqe",
        "outputId": "3e9e3317-984d-4b13-caca-e27efac76ef3"
      },
      "execution_count": null,
      "outputs": [
        {
          "output_type": "stream",
          "name": "stdout",
          "text": [
            "0\n",
            "1\n",
            "2\n",
            "3\n",
            "4\n",
            "5\n",
            "6\n",
            "7\n",
            "8\n",
            "9\n"
          ]
        }
      ]
    },
    {
      "cell_type": "code",
      "source": [
        "for i in range(0,10,1):\n",
        "  print(i)"
      ],
      "metadata": {
        "colab": {
          "base_uri": "https://localhost:8080/"
        },
        "id": "rHSOEzED-Xsf",
        "outputId": "af8f19c4-9e6d-49f5-890b-ac9dd6b68155"
      },
      "execution_count": null,
      "outputs": [
        {
          "output_type": "stream",
          "name": "stdout",
          "text": [
            "0\n",
            "1\n",
            "2\n",
            "3\n",
            "4\n",
            "5\n",
            "6\n",
            "7\n",
            "8\n",
            "9\n"
          ]
        }
      ]
    },
    {
      "cell_type": "code",
      "source": [
        "for i in range(10,100):\n",
        "  print(i)"
      ],
      "metadata": {
        "colab": {
          "base_uri": "https://localhost:8080/"
        },
        "id": "7jxliNB2-rDc",
        "outputId": "e71e1e76-b312-45d2-83ca-d0156f77c29a"
      },
      "execution_count": null,
      "outputs": [
        {
          "output_type": "stream",
          "name": "stdout",
          "text": [
            "10\n",
            "11\n",
            "12\n",
            "13\n",
            "14\n",
            "15\n",
            "16\n",
            "17\n",
            "18\n",
            "19\n",
            "20\n",
            "21\n",
            "22\n",
            "23\n",
            "24\n",
            "25\n",
            "26\n",
            "27\n",
            "28\n",
            "29\n",
            "30\n",
            "31\n",
            "32\n",
            "33\n",
            "34\n",
            "35\n",
            "36\n",
            "37\n",
            "38\n",
            "39\n",
            "40\n",
            "41\n",
            "42\n",
            "43\n",
            "44\n",
            "45\n",
            "46\n",
            "47\n",
            "48\n",
            "49\n",
            "50\n",
            "51\n",
            "52\n",
            "53\n",
            "54\n",
            "55\n",
            "56\n",
            "57\n",
            "58\n",
            "59\n",
            "60\n",
            "61\n",
            "62\n",
            "63\n",
            "64\n",
            "65\n",
            "66\n",
            "67\n",
            "68\n",
            "69\n",
            "70\n",
            "71\n",
            "72\n",
            "73\n",
            "74\n",
            "75\n",
            "76\n",
            "77\n",
            "78\n",
            "79\n",
            "80\n",
            "81\n",
            "82\n",
            "83\n",
            "84\n",
            "85\n",
            "86\n",
            "87\n",
            "88\n",
            "89\n",
            "90\n",
            "91\n",
            "92\n",
            "93\n",
            "94\n",
            "95\n",
            "96\n",
            "97\n",
            "98\n",
            "99\n"
          ]
        }
      ]
    },
    {
      "cell_type": "code",
      "source": [
        "for i in range(10,100,10):\n",
        "  print(i)"
      ],
      "metadata": {
        "colab": {
          "base_uri": "https://localhost:8080/"
        },
        "id": "c593cUeq-yQs",
        "outputId": "e6727d43-4485-42d8-ea6a-e195bf6b5c0d"
      },
      "execution_count": null,
      "outputs": [
        {
          "output_type": "stream",
          "name": "stdout",
          "text": [
            "10\n",
            "20\n",
            "30\n",
            "40\n",
            "50\n",
            "60\n",
            "70\n",
            "80\n",
            "90\n"
          ]
        }
      ]
    },
    {
      "cell_type": "code",
      "source": [
        "print(lst1)\n",
        "for i in lst1:\n",
        "  print(\"values of list1 \", i)\n",
        "else:\n",
        "  print('I am in else section')"
      ],
      "metadata": {
        "colab": {
          "base_uri": "https://localhost:8080/"
        },
        "id": "fiOhUsN8AAft",
        "outputId": "d118b7e0-697a-4130-87ab-d921e77b4ffb"
      },
      "execution_count": null,
      "outputs": [
        {
          "output_type": "stream",
          "name": "stdout",
          "text": [
            "[1, 2, 3, 4, 5, 6, 7, 8, 9, 10, 11, 12, 13]\n",
            "values of list1  1\n",
            "values of list1  2\n",
            "values of list1  3\n",
            "values of list1  4\n",
            "values of list1  5\n",
            "values of list1  6\n",
            "values of list1  7\n",
            "values of list1  8\n",
            "values of list1  9\n",
            "values of list1  10\n",
            "values of list1  11\n",
            "values of list1  12\n",
            "values of list1  13\n",
            "I am in else section\n"
          ]
        }
      ]
    },
    {
      "cell_type": "code",
      "source": [
        "stu_per = [98,87,76,65,54,43,32,88,77,66,55,44,33]\n",
        "for perc in stu_per:\n",
        "  if perc >= 85:\n",
        "    print(\"passed with first class distinction\", perc)\n",
        "  elif perc >= 60 and perc < 85:\n",
        "    print('passed with first class', perc)\n",
        "  elif perc >= 40 and perc < 60:\n",
        "    print('passed with second class', perc)\n",
        "  else:\n",
        "    print('better luck next time', perc)"
      ],
      "metadata": {
        "colab": {
          "base_uri": "https://localhost:8080/"
        },
        "id": "KPIvsb69CaIP",
        "outputId": "33ebb669-210c-43f1-e495-7b7485e5953a"
      },
      "execution_count": null,
      "outputs": [
        {
          "output_type": "stream",
          "name": "stdout",
          "text": [
            "passed with first class distinction 98\n",
            "passed with first class distinction 87\n",
            "passed with first class 76\n",
            "passed with first class 65\n",
            "passed with second class 54\n",
            "passed with second class 43\n",
            "better luck next time 32\n",
            "passed with first class distinction 88\n",
            "passed with first class 77\n",
            "passed with first class 66\n",
            "passed with second class 55\n",
            "passed with second class 44\n",
            "better luck next time 33\n"
          ]
        }
      ]
    },
    {
      "cell_type": "code",
      "source": [
        "for i in range(1, 11, 1):\n",
        "  for j in range(1, 11, 1):\n",
        "    print(i,\" * \",j, \" = \",i*j)"
      ],
      "metadata": {
        "colab": {
          "base_uri": "https://localhost:8080/"
        },
        "id": "-iufJTHYD2jO",
        "outputId": "9a1a5f5d-59c3-465e-9792-7a2239120ea2"
      },
      "execution_count": null,
      "outputs": [
        {
          "output_type": "stream",
          "name": "stdout",
          "text": [
            "1  *  1  =  1\n",
            "1  *  2  =  2\n",
            "1  *  3  =  3\n",
            "1  *  4  =  4\n",
            "1  *  5  =  5\n",
            "1  *  6  =  6\n",
            "1  *  7  =  7\n",
            "1  *  8  =  8\n",
            "1  *  9  =  9\n",
            "1  *  10  =  10\n",
            "2  *  1  =  2\n",
            "2  *  2  =  4\n",
            "2  *  3  =  6\n",
            "2  *  4  =  8\n",
            "2  *  5  =  10\n",
            "2  *  6  =  12\n",
            "2  *  7  =  14\n",
            "2  *  8  =  16\n",
            "2  *  9  =  18\n",
            "2  *  10  =  20\n",
            "3  *  1  =  3\n",
            "3  *  2  =  6\n",
            "3  *  3  =  9\n",
            "3  *  4  =  12\n",
            "3  *  5  =  15\n",
            "3  *  6  =  18\n",
            "3  *  7  =  21\n",
            "3  *  8  =  24\n",
            "3  *  9  =  27\n",
            "3  *  10  =  30\n",
            "4  *  1  =  4\n",
            "4  *  2  =  8\n",
            "4  *  3  =  12\n",
            "4  *  4  =  16\n",
            "4  *  5  =  20\n",
            "4  *  6  =  24\n",
            "4  *  7  =  28\n",
            "4  *  8  =  32\n",
            "4  *  9  =  36\n",
            "4  *  10  =  40\n",
            "5  *  1  =  5\n",
            "5  *  2  =  10\n",
            "5  *  3  =  15\n",
            "5  *  4  =  20\n",
            "5  *  5  =  25\n",
            "5  *  6  =  30\n",
            "5  *  7  =  35\n",
            "5  *  8  =  40\n",
            "5  *  9  =  45\n",
            "5  *  10  =  50\n",
            "6  *  1  =  6\n",
            "6  *  2  =  12\n",
            "6  *  3  =  18\n",
            "6  *  4  =  24\n",
            "6  *  5  =  30\n",
            "6  *  6  =  36\n",
            "6  *  7  =  42\n",
            "6  *  8  =  48\n",
            "6  *  9  =  54\n",
            "6  *  10  =  60\n",
            "7  *  1  =  7\n",
            "7  *  2  =  14\n",
            "7  *  3  =  21\n",
            "7  *  4  =  28\n",
            "7  *  5  =  35\n",
            "7  *  6  =  42\n",
            "7  *  7  =  49\n",
            "7  *  8  =  56\n",
            "7  *  9  =  63\n",
            "7  *  10  =  70\n",
            "8  *  1  =  8\n",
            "8  *  2  =  16\n",
            "8  *  3  =  24\n",
            "8  *  4  =  32\n",
            "8  *  5  =  40\n",
            "8  *  6  =  48\n",
            "8  *  7  =  56\n",
            "8  *  8  =  64\n",
            "8  *  9  =  72\n",
            "8  *  10  =  80\n",
            "9  *  1  =  9\n",
            "9  *  2  =  18\n",
            "9  *  3  =  27\n",
            "9  *  4  =  36\n",
            "9  *  5  =  45\n",
            "9  *  6  =  54\n",
            "9  *  7  =  63\n",
            "9  *  8  =  72\n",
            "9  *  9  =  81\n",
            "9  *  10  =  90\n",
            "10  *  1  =  10\n",
            "10  *  2  =  20\n",
            "10  *  3  =  30\n",
            "10  *  4  =  40\n",
            "10  *  5  =  50\n",
            "10  *  6  =  60\n",
            "10  *  7  =  70\n",
            "10  *  8  =  80\n",
            "10  *  9  =  90\n",
            "10  *  10  =  100\n"
          ]
        }
      ]
    },
    {
      "cell_type": "markdown",
      "source": [
        "(*values: object, sep: str | None = ..., end: str | None = ..., file: SupportsWrite[str] | None = ..., flush: Literal[False] = ...) -> None\n",
        "print(value, ..., sep=' ', end='\\n', file=sys.stdout, flush=False)\n",
        "\n",
        "Prints the values to a stream, or to sys.stdout by default.\n",
        "Optional keyword arguments:\n",
        "file:  a file-like object (stream); defaults to the current sys.stdout.\n",
        "sep:   string inserted between values, default a space.\n",
        "end:   string appended after the last value, default a newline.\n",
        "flush: whether to forcibly flush the stream."
      ],
      "metadata": {
        "id": "6rtgoKvwG-g5"
      }
    },
    {
      "cell_type": "code",
      "source": [
        "for i in range(0, 20):\n",
        "  for j in range(0, 20):\n",
        "    print(\"*\", end=' ')\n",
        "    print()\n",
        "  print('\\r')"
      ],
      "metadata": {
        "colab": {
          "base_uri": "https://localhost:8080/"
        },
        "id": "cptQnhKJFIiq",
        "outputId": "fdc3ac1b-ce02-4d03-bb5c-d71980d0ad03"
      },
      "execution_count": null,
      "outputs": [
        {
          "output_type": "stream",
          "name": "stdout",
          "text": [
            "* * * * * * * * * * * * * * * * * * * * \r\n",
            "* * * * * * * * * * * * * * * * * * * * \r\n",
            "* * * * * * * * * * * * * * * * * * * * \r\n",
            "* * * * * * * * * * * * * * * * * * * * \r\n",
            "* * * * * * * * * * * * * * * * * * * * \r\n",
            "* * * * * * * * * * * * * * * * * * * * \r\n",
            "* * * * * * * * * * * * * * * * * * * * \r\n",
            "* * * * * * * * * * * * * * * * * * * * \r\n",
            "* * * * * * * * * * * * * * * * * * * * \r\n",
            "* * * * * * * * * * * * * * * * * * * * \r\n",
            "* * * * * * * * * * * * * * * * * * * * \r\n",
            "* * * * * * * * * * * * * * * * * * * * \r\n",
            "* * * * * * * * * * * * * * * * * * * * \r\n",
            "* * * * * * * * * * * * * * * * * * * * \r\n",
            "* * * * * * * * * * * * * * * * * * * * \r\n",
            "* * * * * * * * * * * * * * * * * * * * \r\n",
            "* * * * * * * * * * * * * * * * * * * * \r\n",
            "* * * * * * * * * * * * * * * * * * * * \r\n",
            "* * * * * * * * * * * * * * * * * * * * \r\n",
            "* * * * * * * * * * * * * * * * * * * * \r\n"
          ]
        }
      ]
    },
    {
      "cell_type": "code",
      "source": [
        "for i in range(0, 20):\n",
        "  for j in range(0, 20):\n",
        "    print(\"*\", end=' ')\n",
        "  print('\\r')"
      ],
      "metadata": {
        "colab": {
          "base_uri": "https://localhost:8080/"
        },
        "id": "SdZ0QUdsFmCW",
        "outputId": "96ef549a-9410-4bf4-f34f-169ce2f5ac02"
      },
      "execution_count": null,
      "outputs": [
        {
          "output_type": "stream",
          "name": "stdout",
          "text": [
            "* * * * * * * * * * * * * * * * * * * * \r\n",
            "* * * * * * * * * * * * * * * * * * * * \r\n",
            "* * * * * * * * * * * * * * * * * * * * \r\n",
            "* * * * * * * * * * * * * * * * * * * * \r\n",
            "* * * * * * * * * * * * * * * * * * * * \r\n",
            "* * * * * * * * * * * * * * * * * * * * \r\n",
            "* * * * * * * * * * * * * * * * * * * * \r\n",
            "* * * * * * * * * * * * * * * * * * * * \r\n",
            "* * * * * * * * * * * * * * * * * * * * \r\n",
            "* * * * * * * * * * * * * * * * * * * * \r\n",
            "* * * * * * * * * * * * * * * * * * * * \r\n",
            "* * * * * * * * * * * * * * * * * * * * \r\n",
            "* * * * * * * * * * * * * * * * * * * * \r\n",
            "* * * * * * * * * * * * * * * * * * * * \r\n",
            "* * * * * * * * * * * * * * * * * * * * \r\n",
            "* * * * * * * * * * * * * * * * * * * * \r\n",
            "* * * * * * * * * * * * * * * * * * * * \r\n",
            "* * * * * * * * * * * * * * * * * * * * \r\n",
            "* * * * * * * * * * * * * * * * * * * * \r\n",
            "* * * * * * * * * * * * * * * * * * * * \r\n"
          ]
        }
      ]
    },
    {
      "cell_type": "code",
      "source": [
        "for i in range(0, 10): # 0, 1     , 2      , 3         , 4          ..., 9 \n",
        "  for j in range(i+1): # 0, 0,1   , 0,1,2  , 0,1,2,3   , 0,1,2,3,4  ..., 0,1,2,3,4,5,6,7,8,9\n",
        "    print(\"*\", end=\" \")\n",
        "  print('\\r')"
      ],
      "metadata": {
        "colab": {
          "base_uri": "https://localhost:8080/"
        },
        "id": "81MEfH8GKMf5",
        "outputId": "cda599ed-55d9-4fdf-bcba-70e4399321a3"
      },
      "execution_count": null,
      "outputs": [
        {
          "output_type": "stream",
          "name": "stdout",
          "text": [
            "* \r\n",
            "* * \r\n",
            "* * * \r\n",
            "* * * * \r\n",
            "* * * * * \r\n",
            "* * * * * * \r\n",
            "* * * * * * * \r\n",
            "* * * * * * * * \r\n",
            "* * * * * * * * * \r\n",
            "* * * * * * * * * * \r\n"
          ]
        }
      ]
    },
    {
      "cell_type": "code",
      "source": [
        "n = 6\n",
        "k = n-1\n",
        "for i in range(0, n):\n",
        "  for j in range(0, k):\n",
        "    print(end=\"^\")\n",
        "     \n",
        "  k = k - 1\n",
        "  for j in range(0, i+1):\n",
        "    print(j, end=\"\")\n",
        "  print(\"\\r\")"
      ],
      "metadata": {
        "colab": {
          "base_uri": "https://localhost:8080/"
        },
        "id": "xGXtJgBrOQv4",
        "outputId": "c7aed793-469b-43b5-88b8-af35f5498bba"
      },
      "execution_count": null,
      "outputs": [
        {
          "output_type": "stream",
          "name": "stdout",
          "text": [
            "^^^^^0\r\n",
            "^^^^01\r\n",
            "^^^012\r\n",
            "^^0123\r\n",
            "^01234\r\n",
            "012345\r\n"
          ]
        }
      ]
    },
    {
      "cell_type": "code",
      "source": [
        "n = 6\n",
        "k = n-1\n",
        "for i in range(0, n): # i = 1\n",
        "  for j in range(0, k): # j = 0..4 (0,1,2,3)\n",
        "    print(end=\" \") # it will print 4 spaces\n",
        "     \n",
        "  k = k - 1 # k = 3\n",
        "  for h in range(0, i+1): \n",
        "    print('*', end=\" \")\n",
        "  print(\"\\r\")"
      ],
      "metadata": {
        "colab": {
          "base_uri": "https://localhost:8080/"
        },
        "id": "Mp84p0lP_ag9",
        "outputId": "be0d7d7d-5713-47b6-c65d-e442cad1a493"
      },
      "execution_count": null,
      "outputs": [
        {
          "output_type": "stream",
          "name": "stdout",
          "text": [
            "     * \r\n",
            "    * * \r\n",
            "   * * * \r\n",
            "  * * * * \r\n",
            " * * * * * \r\n",
            "* * * * * * \r\n"
          ]
        }
      ]
    },
    {
      "cell_type": "code",
      "source": [
        "n = 6\n",
        "m = n - 1\n",
        "\n",
        "for i in range(0, n): # it will deside number of rows\n",
        "  for k in range(0, i): # it will print spaces\n",
        "    print('', end =' ')\n",
        "\n",
        "\n",
        "  for j in range(0, n): # it will print astrike\n",
        "    print('*', end = ' ')\n",
        "\n",
        "  \n",
        "  n -= 1\n",
        "  print('\\r')"
      ],
      "metadata": {
        "colab": {
          "base_uri": "https://localhost:8080/"
        },
        "id": "Wvm6o8JgFHzi",
        "outputId": "1102af83-9b3e-431b-98e5-fbabc60444c9"
      },
      "execution_count": null,
      "outputs": [
        {
          "output_type": "stream",
          "name": "stdout",
          "text": [
            "* * * * * * \r\n",
            " * * * * * \r\n",
            "  * * * * \r\n",
            "   * * * \r\n",
            "    * * \r\n",
            "     * \r\n"
          ]
        }
      ]
    },
    {
      "cell_type": "code",
      "source": [
        "n = 6\n",
        "m = n - 1\n",
        "\n",
        "for i in range(0, n): # it will deside number of rows\n",
        "  for k in range(0, i): # it will print spaces\n",
        "    print('', end =' ')\n",
        "\n",
        "\n",
        "  for j in range(0, n): # it will print astrike\n",
        "    print('*', end = ' ')\n",
        "\n",
        "  \n",
        "  n -= 1\n",
        "  print('\\r')\n",
        "\n",
        "n = 6\n",
        "k = n - 2\n",
        "for i in range(1, n): # i = 1\n",
        "  for j in range(0, k): # j = 0..4 (0,1,2,3)\n",
        "    print(end=\" \") # it will print 4 spaces\n",
        "     \n",
        "  k = k - 1 # k = 3\n",
        "  for h in range(0, i+1): \n",
        "    print('*', end=\" \")\n",
        "  print(\"\\r\")"
      ],
      "metadata": {
        "colab": {
          "base_uri": "https://localhost:8080/"
        },
        "id": "Z59EfBa-M-93",
        "outputId": "b89a8d9d-7d12-4323-8441-891c4bcd6497"
      },
      "execution_count": null,
      "outputs": [
        {
          "output_type": "stream",
          "name": "stdout",
          "text": [
            "* * * * * * \r\n",
            " * * * * * \r\n",
            "  * * * * \r\n",
            "   * * * \r\n",
            "    * * \r\n",
            "     * \r\n",
            "    * * \r\n",
            "   * * * \r\n",
            "  * * * * \r\n",
            " * * * * * \r\n",
            "* * * * * * \r\n"
          ]
        }
      ]
    },
    {
      "cell_type": "markdown",
      "source": [
        "![image.png](data:image/png;base64,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)"
      ],
      "metadata": {
        "id": "oBu15pLsJwuL"
      }
    },
    {
      "cell_type": "markdown",
      "source": [
        "![image.png](data:image/png;base64,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)"
      ],
      "metadata": {
        "id": "rl5_pD05K5Mh"
      }
    },
    {
      "cell_type": "code",
      "source": [],
      "metadata": {
        "id": "KDIyx-VfJybb"
      },
      "execution_count": null,
      "outputs": []
    },
    {
      "cell_type": "code",
      "source": [
        "n = 6\n",
        "k = n-1\n",
        "\n",
        "\n",
        "for i in range(0, n): # n = 6, i = 0\n",
        "  for j in range(0, k): # k = 5 j = (0,5) => (0,1,2,3,4)\n",
        "    print(end=\" \") # it will print 5 spaces\n",
        "     \n",
        "  k = k - 1 # k = 4\n",
        "  for h in range(0, i+1): # i = 0\n",
        "    print('*', end=\" \")\n",
        "  print(\"\\r\")\n",
        "\n",
        "# ++++++++++++++++++++++++++++++++++++++++++++ #\n",
        "\n",
        "for i in range(0, n): # n = 6, i = 1\n",
        "  for j in range(0, k): # k = 4 j = (0,4) => (0,1,2,3)\n",
        "    print(end=\" \") # it will print 4 spaces\n",
        "     \n",
        "  k = k - 1 # k = 3\n",
        "  for h in range(0, i+1): # i = 1\n",
        "    print('*', end=\" \")\n",
        "  print(\"\\r\")\n",
        "\n",
        "# ++++++++++++++++++++++++++++++++++++++++++++ #\n",
        "\n",
        "for i in range(0, n): # n = 6, i = 2\n",
        "  for j in range(0, k): # k = 3 j = (0,3) => (0,1,2)\n",
        "    print(end=\" \") # it will print 3 spaces\n",
        "     \n",
        "  k = k - 1 # k = 2\n",
        "  for h in range(0, i+1): # i = 1\n",
        "    print('*', end=\" \")\n",
        "  print(\"\\r\")\n",
        "\n",
        "# ++++++++++++++++++++++++++++++++++++++++++++ #\n",
        "\n",
        "for i in range(0, n): # n = 6, i = 3\n",
        "  for j in range(0, k): # k = 2 j = (0,2) => (0,1)\n",
        "    print(end=\" \") # it will print 2 spaces\n",
        "     \n",
        "  k = k - 1 # k = 1\n",
        "  for h in range(0, i+1): # i = 1\n",
        "    print('*', end=\" \")\n",
        "  print(\"\\r\")"
      ],
      "metadata": {
        "id": "uPOngvnuB4bN"
      },
      "execution_count": null,
      "outputs": []
    },
    {
      "cell_type": "code",
      "source": [
        "a = 100\n",
        "\n",
        "while a > 10:\n",
        "  print(a, ' > 10')\n",
        "  a = a - 10"
      ],
      "metadata": {
        "colab": {
          "base_uri": "https://localhost:8080/"
        },
        "id": "IF2ib8IuOGPX",
        "outputId": "5c594386-a3d0-4706-9f31-600151701f4f"
      },
      "execution_count": null,
      "outputs": [
        {
          "output_type": "stream",
          "name": "stdout",
          "text": [
            "100  > 10\n",
            "90  > 10\n",
            "80  > 10\n",
            "70  > 10\n",
            "60  > 10\n",
            "50  > 10\n",
            "40  > 10\n",
            "30  > 10\n",
            "20  > 10\n"
          ]
        }
      ]
    },
    {
      "cell_type": "code",
      "source": [
        "a = 10\n",
        "\n",
        "while a < 100:\n",
        "  print(a, ' < 100')\n",
        "  a = a + 10"
      ],
      "metadata": {
        "colab": {
          "base_uri": "https://localhost:8080/"
        },
        "id": "tXCd9ytaUdOf",
        "outputId": "4658e202-133e-4497-878d-f7b887076dcc"
      },
      "execution_count": null,
      "outputs": [
        {
          "output_type": "stream",
          "name": "stdout",
          "text": [
            "10  < 100\n",
            "20  < 100\n",
            "30  < 100\n",
            "40  < 100\n",
            "50  < 100\n",
            "60  < 100\n",
            "70  < 100\n",
            "80  < 100\n",
            "90  < 100\n"
          ]
        }
      ]
    },
    {
      "cell_type": "code",
      "source": [
        "a = 10\n",
        "\n",
        "while a < 100:\n",
        "  print(a, ' < 100')\n",
        "  a = a + 10\n",
        "else:\n",
        "  print('I am in else section')  "
      ],
      "metadata": {
        "colab": {
          "base_uri": "https://localhost:8080/"
        },
        "id": "UkCyEoBfVMuc",
        "outputId": "009379de-3259-427a-cc96-6e281f29e19a"
      },
      "execution_count": null,
      "outputs": [
        {
          "output_type": "stream",
          "name": "stdout",
          "text": [
            "10  < 100\n",
            "20  < 100\n",
            "30  < 100\n",
            "40  < 100\n",
            "50  < 100\n",
            "60  < 100\n",
            "70  < 100\n",
            "80  < 100\n",
            "90  < 100\n",
            "I am in else section\n"
          ]
        }
      ]
    },
    {
      "cell_type": "code",
      "source": [
        "a = 10\n",
        "\n",
        "while a < 100:\n",
        "  print(a, ' < 100')\n",
        "  if a == 50:\n",
        "    break\n",
        "  a = a + 10"
      ],
      "metadata": {
        "colab": {
          "base_uri": "https://localhost:8080/"
        },
        "id": "gtgoGB4SVb9j",
        "outputId": "44e3fd92-f180-4244-a789-25ece2fb9073"
      },
      "execution_count": null,
      "outputs": [
        {
          "output_type": "stream",
          "name": "stdout",
          "text": [
            "10  < 100\n",
            "20  < 100\n",
            "30  < 100\n",
            "40  < 100\n",
            "50  < 100\n"
          ]
        }
      ]
    },
    {
      "cell_type": "code",
      "source": [
        "marks = [76,65,32,54,43]\n",
        "x = len(marks)\n",
        "#print(x)\n",
        "while x >= 0:\n",
        "  #print(x)\n",
        "  print(marks[x-1])\n",
        "  if marks[x-1] < 35:\n",
        "    \n",
        "    break\n",
        "  x -= 1\n",
        "  #print(marks[x-1])"
      ],
      "metadata": {
        "colab": {
          "base_uri": "https://localhost:8080/"
        },
        "id": "VmMSrO8JWPMD",
        "outputId": "079b1e8a-9e9c-41f9-c8a0-9b091096068f"
      },
      "execution_count": null,
      "outputs": [
        {
          "output_type": "stream",
          "name": "stdout",
          "text": [
            "43\n",
            "54\n",
            "32\n"
          ]
        }
      ]
    },
    {
      "cell_type": "code",
      "source": [
        "a = 10\n",
        "\n",
        "while a < 100:\n",
        "  a = a + 10\n",
        "  if a == 50:\n",
        "    continue\n",
        "  \n",
        "  print(a, ' < 100')"
      ],
      "metadata": {
        "colab": {
          "base_uri": "https://localhost:8080/"
        },
        "id": "YPH4zTJuVpRl",
        "outputId": "3c3fcff5-d8db-4379-e4f1-c95153e4782c"
      },
      "execution_count": null,
      "outputs": [
        {
          "output_type": "stream",
          "name": "stdout",
          "text": [
            "20  < 100\n",
            "30  < 100\n",
            "40  < 100\n",
            "60  < 100\n",
            "70  < 100\n",
            "80  < 100\n",
            "90  < 100\n",
            "100  < 100\n"
          ]
        }
      ]
    }
  ]
}