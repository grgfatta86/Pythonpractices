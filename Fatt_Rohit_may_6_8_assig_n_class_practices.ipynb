{
  "nbformat": 4,
  "nbformat_minor": 0,
  "metadata": {
    "colab": {
      "provenance": [],
      "authorship_tag": "ABX9TyPR4mM1eZYLSrzdMMPOkim/",
      "include_colab_link": true
    },
    "kernelspec": {
      "name": "python3",
      "display_name": "Python 3"
    },
    "language_info": {
      "name": "python"
    }
  },
  "cells": [
    {
      "cell_type": "markdown",
      "metadata": {
        "id": "view-in-github",
        "colab_type": "text"
      },
      "source": [
        "<a href=\"https://colab.research.google.com/github/grgfatta86/Pythonpractices/blob/main/Fatt_Rohit_may_6_8_assig_n_class_practices.ipynb\" target=\"_parent\"><img src=\"https://colab.research.google.com/assets/colab-badge.svg\" alt=\"Open In Colab\"/></a>"
      ]
    },
    {
      "cell_type": "code",
      "execution_count": null,
      "metadata": {
        "colab": {
          "base_uri": "https://localhost:8080/"
        },
        "id": "RRvHghW8hsuO",
        "outputId": "1bd149da-4e11-4fea-83d6-8bf6630ed449"
      },
      "outputs": [
        {
          "output_type": "stream",
          "name": "stdout",
          "text": [
            "your are eligible for voiting\n"
          ]
        }
      ],
      "source": [
        "# write a program to check if a person if eligible for voting or not?\n",
        "age=25\n",
        "if age>19:\n",
        "  print(\"your are eligible for voiting\")\n",
        "else:\n",
        "  print(\"your are not eligible for voting\")"
      ]
    },
    {
      "cell_type": "code",
      "source": [
        "age=25\n",
        "if age<20:\n",
        "  print(\"eligible\")\n",
        "else:\n",
        "  print(\"not\")\n",
        "\n",
        "print(\"hi, how are yuo?\")"
      ],
      "metadata": {
        "colab": {
          "base_uri": "https://localhost:8080/"
        },
        "id": "4KyosDmOkT_E",
        "outputId": "a7d045d9-7e36-4f7f-9537-065ddbbf42e7"
      },
      "execution_count": null,
      "outputs": [
        {
          "output_type": "stream",
          "name": "stdout",
          "text": [
            "not\n",
            "hi, how are yuo?\n"
          ]
        }
      ]
    },
    {
      "cell_type": "code",
      "source": [
        "# write a program to check if a number is even or odd?\n",
        "\n",
        "num=7\n",
        "if num%2==0:\n",
        "  print(\"even\")\n",
        "\n",
        "else:\n",
        "  print(\"odd\")\n",
        "\n"
      ],
      "metadata": {
        "colab": {
          "base_uri": "https://localhost:8080/"
        },
        "id": "1EH4D95pkrf7",
        "outputId": "f07f23a8-55b0-43ca-9972-0b22fa0ebf1f"
      },
      "execution_count": 6,
      "outputs": [
        {
          "output_type": "stream",
          "name": "stdout",
          "text": [
            "odd\n"
          ]
        }
      ]
    },
    {
      "cell_type": "code",
      "source": [
        "# write a program to check if a number is even or odd?\n",
        "num=105\n",
        "if num%2==0:\n",
        "  print(\"even\")\n",
        "\n",
        "else:\n",
        "  print(\"odd\")\n",
        "\n",
        "\n"
      ],
      "metadata": {
        "colab": {
          "base_uri": "https://localhost:8080/"
        },
        "id": "WGRF-dn9nF7S",
        "outputId": "3785b856-f768-4271-a6b5-c37df11a2b81"
      },
      "execution_count": 8,
      "outputs": [
        {
          "output_type": "stream",
          "name": "stdout",
          "text": [
            "odd\n"
          ]
        }
      ]
    },
    {
      "cell_type": "code",
      "source": [
        "## write a program to check if a number is divisible by 7 or not?\n",
        "\n",
        "a=77\n",
        "if a%7==0:\n",
        "  print(\"yes divisble by 7\")\n",
        "\n",
        "else:\n",
        "  print(\"not divisible by 7\")\n"
      ],
      "metadata": {
        "colab": {
          "base_uri": "https://localhost:8080/"
        },
        "id": "JtwSn2vroWEP",
        "outputId": "bf2be52b-6226-4c8f-ad71-028f2c57a4d2"
      },
      "execution_count": null,
      "outputs": [
        {
          "output_type": "stream",
          "name": "stdout",
          "text": [
            "yes divisble by 7\n"
          ]
        }
      ]
    },
    {
      "cell_type": "code",
      "source": [
        "## Write a program to print \"hello\" if a number is a multiple of 5 else print \"Bye\"\n",
        "\n",
        "a=51\n",
        "if a%5==0:\n",
        "  print(\"hello\")\n",
        "else:\n",
        "  print(\"bye\")\n"
      ],
      "metadata": {
        "colab": {
          "base_uri": "https://localhost:8080/"
        },
        "id": "-aHGwvR241MM",
        "outputId": "5670c220-3cd1-4ed5-dac2-4c998f919212"
      },
      "execution_count": null,
      "outputs": [
        {
          "output_type": "stream",
          "name": "stdout",
          "text": [
            "bye\n"
          ]
        }
      ]
    },
    {
      "cell_type": "code",
      "source": [
        "## Write a program to calculate electricity bill according to following criteria\n",
        "\n",
        "# first 100 units       No charge\n",
        "# Next 100 units        $5/unit\n",
        "# after 200 units       & 10/unit"
      ],
      "metadata": {
        "id": "k1th4K0_6ckD"
      },
      "execution_count": null,
      "outputs": []
    },
    {
      "cell_type": "code",
      "source": [
        "a = 250\n",
        "if a<100:\n",
        "  print(\"no charge\")\n",
        "if a == (a-100)*5:\n",
        "  print(\"charge :- \")\n",
        "##if a == (a-100)*5+ (a-((a-100)*5))*10\n",
        "  ##print(\"charge after:- \")\n"
      ],
      "metadata": {
        "id": "_KZSvKHv6-pF"
      },
      "execution_count": null,
      "outputs": []
    },
    {
      "cell_type": "code",
      "source": [
        "unit = 350\n",
        "if unit<=100:\n",
        "  print(\"No charge\")\n",
        "elif (unit)>=100 and (unit)<=200:\n",
        "  print((unit-100)*5)\n",
        "elif (unit)>=200:\n",
        "  print((100*5)+((unit-200)*10))\n"
      ],
      "metadata": {
        "colab": {
          "base_uri": "https://localhost:8080/"
        },
        "id": "a8agnpJUv34-",
        "outputId": "10f378b4-457d-430e-c271-5226a7f3c7e9"
      },
      "execution_count": null,
      "outputs": [
        {
          "output_type": "stream",
          "name": "stdout",
          "text": [
            "2000\n"
          ]
        }
      ]
    },
    {
      "cell_type": "code",
      "source": [
        "unit = 90\n",
        "if unit<=100:\n",
        "  print(0)\n",
        "elif unit>100 and unit<200 :\n",
        "  print((unit-100)*5)\n",
        "elif unit>200:\n",
        "  print((100*5)+(unit-200)*10)"
      ],
      "metadata": {
        "colab": {
          "base_uri": "https://localhost:8080/"
        },
        "id": "ZCU-vU_u4sYB",
        "outputId": "204f6cab-3e99-4683-8f5e-e545d3497d2b"
      },
      "execution_count": null,
      "outputs": [
        {
          "output_type": "stream",
          "name": "stdout",
          "text": [
            "0\n"
          ]
        }
      ]
    },
    {
      "cell_type": "code",
      "source": [
        "unit = 180\n",
        "if unit<=100:\n",
        "  print(0)\n",
        "elif unit>100 and unit<200 :\n",
        "  print((unit-100)*5)\n",
        "elif unit>200:\n",
        "  print((100*5)+(unit-200)*10)"
      ],
      "metadata": {
        "colab": {
          "base_uri": "https://localhost:8080/"
        },
        "id": "Pz8nUpfJ8eQ7",
        "outputId": "87b4f9de-5ab9-4979-b17c-dca159968393"
      },
      "execution_count": null,
      "outputs": [
        {
          "output_type": "stream",
          "name": "stdout",
          "text": [
            "400\n"
          ]
        }
      ]
    },
    {
      "cell_type": "code",
      "source": [
        "## write a program to find last digit of a number\n",
        "n = 123\n",
        "b=n%10\n",
        "print(\"the last digit is\", b)\n"
      ],
      "metadata": {
        "colab": {
          "base_uri": "https://localhost:8080/"
        },
        "id": "q5F8wOj-9Wul",
        "outputId": "47b61a1b-2bbc-4558-9be2-59660bd37a85"
      },
      "execution_count": null,
      "outputs": [
        {
          "output_type": "stream",
          "name": "stdout",
          "text": [
            "the last digit is 3\n"
          ]
        }
      ]
    },
    {
      "cell_type": "code",
      "source": [
        "## write a program to check criteria of the student according to %\n",
        "## Marks                      Grades\n",
        "> 90                          A\n",
        "<80 and >=90 marks            B\n",
        "<60 and <=80 marks            C\n",
        "Below 60                      Failed"
      ],
      "metadata": {
        "colab": {
          "base_uri": "https://localhost:8080/",
          "height": 130
        },
        "id": "FwPbdb7wAC9z",
        "outputId": "acef1e84-bcab-4532-f205-d709b8d8a043"
      },
      "execution_count": null,
      "outputs": [
        {
          "output_type": "error",
          "ename": "SyntaxError",
          "evalue": "ignored",
          "traceback": [
            "\u001b[0;36m  File \u001b[0;32m\"<ipython-input-13-5125ebc8ba55>\"\u001b[0;36m, line \u001b[0;32m3\u001b[0m\n\u001b[0;31m    > 90                          A\u001b[0m\n\u001b[0m    ^\u001b[0m\n\u001b[0;31mSyntaxError\u001b[0m\u001b[0;31m:\u001b[0m invalid syntax\n"
          ]
        }
      ]
    },
    {
      "cell_type": "code",
      "source": [
        "a=91\n",
        "if a>=90:\n",
        "  print=(\"A\")\n",
        "elif a<90 and a>=80:\n",
        "  print=(\"B\")\n",
        "elif a<80 and a>=60:\n",
        "  print=(\"C\")\n",
        "else:\n",
        "  print(\"Failed\")\n"
      ],
      "metadata": {
        "id": "ggQZFKw8IH0Q"
      },
      "execution_count": null,
      "outputs": []
    },
    {
      "cell_type": "code",
      "source": [
        "a=39\n",
        "if a>=80:\n",
        "  print('A')\n",
        "elif a<80 and a>=60:\n",
        "  print('B')\n",
        "elif a<60 and a>=40:\n",
        "  print('C')\n",
        "else:\n",
        "  print('Failed')\n"
      ],
      "metadata": {
        "colab": {
          "base_uri": "https://localhost:8080/"
        },
        "id": "g2SJ6pYwJMv9",
        "outputId": "e9fd7de9-141f-4837-a049-aa307ade1212"
      },
      "execution_count": null,
      "outputs": [
        {
          "output_type": "stream",
          "name": "stdout",
          "text": [
            "Failed\n"
          ]
        }
      ]
    },
    {
      "cell_type": "code",
      "source": [
        "## write a program to take input between 1-12 and print which month of the year is it?\n",
        "hint) 1 is january"
      ],
      "metadata": {
        "id": "d7Ga9YfuJkcW"
      },
      "execution_count": null,
      "outputs": []
    },
    {
      "cell_type": "code",
      "source": [
        "print ()"
      ],
      "metadata": {
        "id": "y30TrYR_J9LC"
      },
      "execution_count": null,
      "outputs": []
    },
    {
      "cell_type": "code",
      "source": [
        "a=int(input(\"month of the year\"))\n",
        "if a==1:\n",
        "  print(\"January\")\n",
        "elif a==2:\n",
        "  print(\"Feburary\")\n",
        "elif a==3:\n",
        "  print(\"March\")\n",
        "elif a==4:\n",
        "  print(\"April\")\n",
        "elif a==5:\n",
        "  print(\"May\")\n",
        "elif a==6:\n",
        "  print(\"Jun\")\n",
        "elif a==7:\n",
        "  print(\"July\")\n",
        "elif a==8:\n",
        "  print(\"Agust\")\n",
        "elif a==9:\n",
        "  print(\"September\")\n",
        "elif a==10:\n",
        "  print(\"October\")\n",
        "elif a==11:\n",
        "  print(\"November\")\n",
        "elif a==12:\n",
        "  print(\"December\")\n",
        "else:\n",
        "  print(\"Not valid\")\n",
        "\n",
        "\n"
      ],
      "metadata": {
        "colab": {
          "base_uri": "https://localhost:8080/"
        },
        "id": "WOBlIZocN_zO",
        "outputId": "4f11e0e3-dd63-42e1-f8c5-f33df34f3829"
      },
      "execution_count": null,
      "outputs": [
        {
          "output_type": "stream",
          "name": "stdout",
          "text": [
            "month of the year2\n",
            "Feburary\n"
          ]
        }
      ]
    },
    {
      "cell_type": "code",
      "source": [
        "a=1\n",
        "if a==1:\n",
        "  print(\"January\")\n",
        "elif a==2:\n",
        "  print(\"Feburary\")\n",
        "elif a==3:\n",
        "  print(\"March\")\n",
        "elif a==4:\n",
        "  print(\"April\")\n",
        "elif a==5:\n",
        "  print(\"May\")\n",
        "elif a==6:\n",
        "  print(\"Jun\")\n",
        "elif a==7:\n",
        "  print(\"July\")\n",
        "elif a==8:\n",
        "  print(\"Agust\")\n",
        "elif a==9:\n",
        "  print(\"September\")\n",
        "elif a==10:\n",
        "  print(\"October\")\n",
        "elif a==11:\n",
        "  print(\"November\")\n",
        "elif a==12:\n",
        "  print(\"December\")\n",
        "else:\n",
        "  print(\"Not valid\")"
      ],
      "metadata": {
        "colab": {
          "base_uri": "https://localhost:8080/"
        },
        "id": "WufwTG9KV4mP",
        "outputId": "d00690a7-ffc2-4ce9-81c2-132a095f5372"
      },
      "execution_count": null,
      "outputs": [
        {
          "output_type": "stream",
          "name": "stdout",
          "text": [
            "January\n"
          ]
        }
      ]
    },
    {
      "cell_type": "code",
      "source": [
        "## Write a program to take input between 1-7 and print which day of week it is"
      ],
      "metadata": {
        "id": "XbwyuYApWoX3"
      },
      "execution_count": null,
      "outputs": []
    },
    {
      "cell_type": "code",
      "source": [
        "y"
      ],
      "metadata": {
        "id": "S4BCd9w_YPsR"
      },
      "execution_count": null,
      "outputs": []
    },
    {
      "cell_type": "code",
      "source": [
        "a=int(input(\"day of week\"))\n",
        "if a==1:\n",
        "  print(\"Sunday\")\n",
        "if a==2:\n",
        "  print(\"Monday\")\n",
        "if a==3:\n",
        "  print(\"Tuesday\")\n",
        "if a==4:\n",
        "  print(\"Wednesday\")\n",
        "if a==5:\n",
        "  print(\"Thursay\")\n",
        "if a==6:\n",
        "  print(\"Friday\")\n",
        "if a==7:\n",
        "  print(\"Saturday\")\n",
        "else:\n",
        "  print(\"Not a week day\")\n"
      ],
      "metadata": {
        "colab": {
          "base_uri": "https://localhost:8080/"
        },
        "id": "7M1z4_AJYKG4",
        "outputId": "79df9af5-e5f6-4ed3-b67c-e7912d5d2327"
      },
      "execution_count": null,
      "outputs": [
        {
          "output_type": "stream",
          "name": "stdout",
          "text": [
            "day of week7\n",
            "Saturday\n"
          ]
        }
      ]
    },
    {
      "cell_type": "code",
      "source": [
        "a=8\n",
        "if a==1:\n",
        "  print(\"Sunday\")\n",
        "if a==2:\n",
        "  print(\"Monday\")\n",
        "if a==3:\n",
        "  print(\"Tuesday\")\n",
        "if a==4:\n",
        "  print(\"Wednesday\")\n",
        "if a==5:\n",
        "  print(\"Thursay\")\n",
        "if a==6:\n",
        "  print(\"Friday\")\n",
        "if a==7:\n",
        "  print(\"Saturday\")\n",
        "else:\n",
        "  print(\"Not a week day\")"
      ],
      "metadata": {
        "colab": {
          "base_uri": "https://localhost:8080/"
        },
        "id": "v7XzwbOuZqRx",
        "outputId": "4443f62e-121f-460d-968a-a5caace26683"
      },
      "execution_count": null,
      "outputs": [
        {
          "output_type": "stream",
          "name": "stdout",
          "text": [
            "Not a week day\n"
          ]
        }
      ]
    },
    {
      "cell_type": "code",
      "source": [
        "## Check which number is greatest and smallest?\n",
        "\n",
        "A=5\n",
        "B=19\n",
        "C=25\n",
        "D=30\n",
        "\n",
        "set={A,B,C,D}\n",
        "print('mini is ' + str(min(set)))\n",
        "print('max is ' + str(max(set)))"
      ],
      "metadata": {
        "colab": {
          "base_uri": "https://localhost:8080/"
        },
        "id": "HLsTe_NGZ_T0",
        "outputId": "a1c4c7a9-b199-4855-b0c1-66b1c8a29e23"
      },
      "execution_count": null,
      "outputs": [
        {
          "output_type": "stream",
          "name": "stdout",
          "text": [
            "mini is 5\n",
            "max is 30\n"
          ]
        }
      ]
    },
    {
      "cell_type": "code",
      "source": [],
      "metadata": {
        "id": "kYGJIDZlb0jk"
      },
      "execution_count": null,
      "outputs": []
    },
    {
      "cell_type": "code",
      "source": [
        "A=1\n",
        "B=2\n",
        "C=3\n",
        "D=4\n",
        "E=5\n",
        "\n",
        "set={A,B,C,D,E}\n",
        "print('min is ' + str(min(set)))\n",
        "print('max is' + str(max(set)))"
      ],
      "metadata": {
        "colab": {
          "base_uri": "https://localhost:8080/"
        },
        "id": "iG-oHWcdb0OH",
        "outputId": "fd95bfb8-dfe6-4c03-b514-6ce09ddeae60"
      },
      "execution_count": null,
      "outputs": [
        {
          "output_type": "stream",
          "name": "stdout",
          "text": [
            "min is 1\n",
            "max is5\n"
          ]
        }
      ]
    },
    {
      "cell_type": "code",
      "source": [
        "A=82\n",
        "B=76\n",
        "C=51\n",
        "D=42\n",
        "grt=A\n",
        "if B>grt:\n",
        "  grt=B\n",
        "if C>grt:\n",
        "  grt=C\n",
        "if D>grt:\n",
        "  grt=D\n",
        "print(\"Greatest is: \", grt)\n",
        "smlt=A\n",
        "if B<smlt:\n",
        "  smlt=B\n",
        "if C<smlt:\n",
        "  smlt=C\n",
        "if D<smlt:\n",
        "  smlt=D\n",
        "print(\"Smallest is \", smlt)\n"
      ],
      "metadata": {
        "colab": {
          "base_uri": "https://localhost:8080/"
        },
        "id": "YjwMNPUWdkum",
        "outputId": "ac2d1724-19aa-42c6-887f-9d6530654271"
      },
      "execution_count": null,
      "outputs": [
        {
          "output_type": "stream",
          "name": "stdout",
          "text": [
            "Greatest is:  82\n",
            "Smallest is  42\n"
          ]
        }
      ]
    },
    {
      "cell_type": "code",
      "source": [
        "A=5\n",
        "B=2\n",
        "C=3\n",
        "grt=A\n",
        "if B>grt:\n",
        "  grt=A\n",
        "if C>grt:\n",
        "   grt=A\n",
        "print(\"Gretest is: \", grt)\n",
        "stmt=A\n",
        "if B<stmt:\n",
        "  stmt=B\n",
        "if C<stmt:\n",
        "  stmt=C\n",
        "print(\"Smallest is: \", stmt)\n",
        "\n"
      ],
      "metadata": {
        "colab": {
          "base_uri": "https://localhost:8080/"
        },
        "id": "rmvJG1bdkWiT",
        "outputId": "9f383d59-df42-4d3e-bbfb-09bfe6146dbf"
      },
      "execution_count": null,
      "outputs": [
        {
          "output_type": "stream",
          "name": "stdout",
          "text": [
            "Gretest is:  5\n",
            "Smallest is:  2\n"
          ]
        }
      ]
    },
    {
      "cell_type": "code",
      "source": [
        "# c=[1,2,3,4,5,1,2,3,'a','b',['h','a']] find the count in all list.\n",
        "c=[1,2,3,4,5,1,2,3,'a','b',['h','a']]\n",
        "poped_list=c.pop()\n",
        "c.extend(poped_list)\n",
        "print('the extended list',c)\n",
        "print(set(c))\n",
        "print(c.count(1))\n",
        "print(c.count(2))\n",
        "print(c.count(3))\n",
        "print(c.count(4))\n",
        "print(c.count(5))\n",
        "print(c.count('a'))\n",
        "print(c.count('b'))\n",
        "print(c.count('h'))\n",
        "\n"
      ],
      "metadata": {
        "colab": {
          "base_uri": "https://localhost:8080/"
        },
        "id": "j6BQ5tksY63G",
        "outputId": "489dc193-e3bd-4887-9a1d-74752ef8bcd2"
      },
      "execution_count": 3,
      "outputs": [
        {
          "output_type": "stream",
          "name": "stdout",
          "text": [
            "the extended list [1, 2, 3, 4, 5, 1, 2, 3, 'a', 'b', 'h', 'a']\n",
            "{1, 2, 3, 4, 5, 'a', 'h', 'b'}\n",
            "2\n",
            "2\n",
            "2\n",
            "1\n",
            "1\n",
            "2\n",
            "1\n",
            "1\n"
          ]
        }
      ]
    },
    {
      "cell_type": "code",
      "source": [
        "# write a program to check if a number is even or odd?\n",
        "a=5\n",
        "if a%2==0:\n",
        "  print(\"even\")\n",
        "else:\n",
        "  print(\"odd\")"
      ],
      "metadata": {
        "colab": {
          "base_uri": "https://localhost:8080/"
        },
        "id": "q6aN21zvbXXM",
        "outputId": "f790b000-5df2-48a7-b944-8b31f9654d25"
      },
      "execution_count": 5,
      "outputs": [
        {
          "output_type": "stream",
          "name": "stdout",
          "text": [
            "odd\n"
          ]
        }
      ]
    },
    {
      "cell_type": "code",
      "source": [
        "a=int(input(\"day of the week\"))\n",
        "if a==1:\n",
        "  print(\"sunday\")\n",
        "if a==2:\n",
        "  print(\"Monday\")\n",
        "else:\n",
        "  print(\"sorry\")"
      ],
      "metadata": {
        "colab": {
          "base_uri": "https://localhost:8080/"
        },
        "id": "fppzc_URi9wY",
        "outputId": "518a86a8-4bfb-4b63-9c9c-ba1bffef78a2"
      },
      "execution_count": 13,
      "outputs": [
        {
          "output_type": "stream",
          "name": "stdout",
          "text": [
            "day of the week2\n",
            "Monday\n"
          ]
        }
      ]
    }
  ]
}