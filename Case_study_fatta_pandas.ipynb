{
  "nbformat": 4,
  "nbformat_minor": 0,
  "metadata": {
    "colab": {
      "provenance": [],
      "authorship_tag": "ABX9TyPJsAAjcn+wEHkQSE6ZC2yn",
      "include_colab_link": true
    },
    "kernelspec": {
      "name": "python3",
      "display_name": "Python 3"
    },
    "language_info": {
      "name": "python"
    }
  },
  "cells": [
    {
      "cell_type": "markdown",
      "metadata": {
        "id": "view-in-github",
        "colab_type": "text"
      },
      "source": [
        "<a href=\"https://colab.research.google.com/github/grgfatta86/Pythonpractices/blob/main/Case_study_fatta_pandas.ipynb\" target=\"_parent\"><img src=\"https://colab.research.google.com/assets/colab-badge.svg\" alt=\"Open In Colab\"/></a>"
      ]
    },
    {
      "cell_type": "code",
      "source": [],
      "metadata": {
        "id": "SpKCHfqv2V2P"
      },
      "execution_count": null,
      "outputs": []
    },
    {
      "cell_type": "markdown",
      "source": [
        "# WAP in which if file does not exists you will create a csv file with 1 column and add 1 row wih value 1\n",
        "\n",
        "# and if file exists read the column add 1 to the last value of the column and add the new value to csv and save\n",
        "\n",
        "# import os\n",
        "\n",
        "# if os.path.exists(\"abcd.csv\")"
      ],
      "metadata": {
        "id": "AYvKOm1UwLWq"
      }
    },
    {
      "cell_type": "code",
      "source": [
        "import os\n",
        "import pandas as pd\n",
        "if os.path.exists(\"abcd.csv\"):\n",
        "  df=pd.read_csv(\"abcd.csv\")\n",
        "  all_values=list(df[\"sum\"])\n",
        "  new_element=0\n",
        "  for k in all_values:\n",
        "    new_element=new_element+k\n",
        "  all_values.append(new_element)\n",
        "  pd.DataFrame({\"sum\":all_values}).to_csv(\"abcd.csv\", index=False)\n",
        "\n",
        "else:\n",
        "    df=pd.DataFrame({\"sum\":[1]})\n",
        "    df.to_csv(\"abcd.csv\", index=False)\n"
      ],
      "metadata": {
        "id": "jhJIvy4-wQby"
      },
      "execution_count": 31,
      "outputs": []
    },
    {
      "cell_type": "code",
      "source": [
        "print(os.path.exists(\"abcd.csv\"))\n",
        "print(os.path.exists(\"abcd2366.csv\"))"
      ],
      "metadata": {
        "colab": {
          "base_uri": "https://localhost:8080/"
        },
        "id": "I4dXsLzz1pXF",
        "outputId": "f14ce30b-0b14-4647-b97e-d80d9da27b1e"
      },
      "execution_count": 32,
      "outputs": [
        {
          "output_type": "stream",
          "name": "stdout",
          "text": [
            "True\n",
            "False\n"
          ]
        }
      ]
    },
    {
      "cell_type": "code",
      "source": [
        " #pd.DataFrame({\"sum\":[1,3,4,5,6]})\n",
        " #df.to_csv(\"abcd.csv\")\n",
        " print(pd.read_csv(\"abcd.csv\").shape) ## if you dont put index=False by defult it appear index 0,1,2,..\n",
        "    "
      ],
      "metadata": {
        "colab": {
          "base_uri": "https://localhost:8080/"
        },
        "id": "iA1XpyVs9gbL",
        "outputId": "592ca5a4-891d-4283-e1f6-7f4549a7cdc6"
      },
      "execution_count": 24,
      "outputs": [
        {
          "output_type": "stream",
          "name": "stdout",
          "text": [
            "(9, 1)\n"
          ]
        }
      ]
    }
  ]
}