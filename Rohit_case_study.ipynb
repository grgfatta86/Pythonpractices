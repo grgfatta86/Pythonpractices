{
  "nbformat": 4,
  "nbformat_minor": 0,
  "metadata": {
    "colab": {
      "provenance": [],
      "authorship_tag": "ABX9TyPiFGpsxk10lXXiDl5lps4Y",
      "include_colab_link": true
    },
    "kernelspec": {
      "name": "python3",
      "display_name": "Python 3"
    },
    "language_info": {
      "name": "python"
    }
  },
  "cells": [
    {
      "cell_type": "markdown",
      "metadata": {
        "id": "view-in-github",
        "colab_type": "text"
      },
      "source": [
        "<a href=\"https://colab.research.google.com/github/grgfatta86/Pythonpractices/blob/main/Rohit_case_study.ipynb\" target=\"_parent\"><img src=\"https://colab.research.google.com/assets/colab-badge.svg\" alt=\"Open In Colab\"/></a>"
      ]
    },
    {
      "cell_type": "code",
      "execution_count": null,
      "metadata": {
        "id": "kK2SFo3ZfiLQ"
      },
      "outputs": [],
      "source": [
        "## Write a Python class Employee with attributes like emp_id, emp_name, emp_salary, and emp_department and methods like calculate_emp_salary, emp_assign_department, and print_employee_details.\n",
        "\n",
        "#Use 'assign_department' method to change the department of an employee.\n",
        "\n",
        "#Use 'print_employee_details' method to print the details of an employee.\n",
        "\n",
        "#Use 'calculate_emp_salary' method takes two arguments: salary and hours_worked, which is the number of hours worked by the employee."
      ]
    },
    {
      "cell_type": "code",
      "source": [
        "class Employee:\n",
        "  def __init__(self, name, emp_id, salary, department):\n",
        "    self.name = name\n",
        "    self.id = emp_id\n",
        "    self.salary = salary\n",
        "    self.department = department\n",
        "\n",
        "  def calculate_salary(self, salary, hours_workded):\n",
        "    self.salary = salary*hours_worked \n",
        "\n",
        "  def assign_department(self, emp_department):\n",
        "    self.department = emp_department\n",
        "\n",
        "  def print_employee_details(self):\n",
        "    print(\"\\nName: \", self.name)\n",
        "    print(\"ID: \", self.id)\n",
        "    print(\"salary: \", self.salary)\n",
        "    print(\"department: \", self.department)\n",
        "    print(\"------------------------\")\n",
        "\n",
        "  \n",
        "\n"
      ],
      "metadata": {
        "id": "T_zTRT3ahmj2"
      },
      "execution_count": 20,
      "outputs": []
    },
    {
      "cell_type": "code",
      "source": [
        "employee1 = Employee(\"Ram\", \"E7876\", 3000, \"Entomology\")\n",
        "employee2 = Employee(\"Sanjay\", \"E7499\", 4000, \"Soil\")\n",
        "employee3 = Employee(\"Ganesh\", \"E7900\", 5000, \"Agronomy\")\n",
        "employee4 = Employee(\"Kisu\", \"E7698\", 6000, \"Horticulture\")"
      ],
      "metadata": {
        "id": "RpL42JkLlrPp"
      },
      "execution_count": 21,
      "outputs": []
    },
    {
      "cell_type": "code",
      "source": [
        "employee1.print_employee_details()\n",
        "employee2.print_employee_details()\n",
        "employee3.print_employee_details()\n",
        "employee4.print_employee_details()"
      ],
      "metadata": {
        "colab": {
          "base_uri": "https://localhost:8080/"
        },
        "id": "dVdEzIREm8qa",
        "outputId": "d8172e14-a523-47c2-fada-60123d48bd84"
      },
      "execution_count": 22,
      "outputs": [
        {
          "output_type": "stream",
          "name": "stdout",
          "text": [
            "\n",
            "Name:  Ram\n",
            "ID:  E7876\n",
            "salary:  3000\n",
            "department:  Entomology\n",
            "------------------------\n",
            "\n",
            "Name:  Sanjay\n",
            "ID:  E7499\n",
            "salary:  4000\n",
            "department:  Soil\n",
            "------------------------\n",
            "\n",
            "Name:  Ganesh\n",
            "ID:  E7900\n",
            "salary:  5000\n",
            "department:  Agronomy\n",
            "------------------------\n",
            "\n",
            "Name:  Kisu\n",
            "ID:  E7698\n",
            "salary:  6000\n",
            "department:  Horticulture\n",
            "------------------------\n"
          ]
        }
      ]
    },
    {
      "cell_type": "code",
      "source": [
        "employee1.assign_department(\"Aqua\")\n",
        "employee4.assign_department(\"Pathology\")\n",
        "\n",
        "print(\"updated Employee Details\")\n",
        "employee1.print_employee_details()\n",
        "employee2.print_employee_details()\n",
        "employee3.print_employee_details()\n",
        "employee4.print_employee_details()"
      ],
      "metadata": {
        "colab": {
          "base_uri": "https://localhost:8080/"
        },
        "id": "Qeh8GEinrIBY",
        "outputId": "c9258fa4-8739-43f5-cfe5-a1f72c68dd85"
      },
      "execution_count": 23,
      "outputs": [
        {
          "output_type": "stream",
          "name": "stdout",
          "text": [
            "updated Employee Details\n",
            "\n",
            "Name:  Ram\n",
            "ID:  E7876\n",
            "salary:  3000\n",
            "department:  Aqua\n",
            "------------------------\n",
            "\n",
            "Name:  Sanjay\n",
            "ID:  E7499\n",
            "salary:  4000\n",
            "department:  Soil\n",
            "------------------------\n",
            "\n",
            "Name:  Ganesh\n",
            "ID:  E7900\n",
            "salary:  5000\n",
            "department:  Agronomy\n",
            "------------------------\n",
            "\n",
            "Name:  Kisu\n",
            "ID:  E7698\n",
            "salary:  6000\n",
            "department:  Pathology\n",
            "------------------------\n"
          ]
        }
      ]
    },
    {
      "cell_type": "code",
      "source": [
        "##6 print details of all employees try as homework"
      ],
      "metadata": {
        "id": "NgtMlIn1-ZA7"
      },
      "execution_count": null,
      "outputs": []
    },
    {
      "cell_type": "code",
      "source": [
        "def"
      ],
      "metadata": {
        "id": "eW_F02NNGAHc"
      },
      "execution_count": null,
      "outputs": []
    }
  ]
}