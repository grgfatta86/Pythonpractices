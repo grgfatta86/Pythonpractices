{
  "nbformat": 4,
  "nbformat_minor": 0,
  "metadata": {
    "colab": {
      "provenance": [],
      "authorship_tag": "ABX9TyPx4Av/+hSO6x2oCkCthGKa",
      "include_colab_link": true
    },
    "kernelspec": {
      "name": "python3",
      "display_name": "Python 3"
    },
    "language_info": {
      "name": "python"
    }
  },
  "cells": [
    {
      "cell_type": "markdown",
      "metadata": {
        "id": "view-in-github",
        "colab_type": "text"
      },
      "source": [
        "<a href=\"https://colab.research.google.com/github/grgfatta86/Pythonpractices/blob/main/Loops_Assignment_Fatta.ipynb\" target=\"_parent\"><img src=\"https://colab.research.google.com/assets/colab-badge.svg\" alt=\"Open In Colab\"/></a>"
      ]
    },
    {
      "cell_type": "code",
      "execution_count": null,
      "metadata": {
        "id": "WUes9aFTswfm"
      },
      "outputs": [],
      "source": [
        "##  Swap two numbers without using 3rd variable"
      ]
    },
    {
      "cell_type": "code",
      "source": [
        "a = 10\n",
        "b = 20\n",
        "print('Print a and b before swap')\n",
        "print('a= ', a, 'b= ',b)\n",
        "a,b = b,a\n",
        "print('Print a and b after swap')\n",
        "print('a= ', a, 'b= ',b)"
      ],
      "metadata": {
        "colab": {
          "base_uri": "https://localhost:8080/"
        },
        "id": "L3tTIlb2tcg8",
        "outputId": "7efc8a3f-cd35-4760-ca08-cfeb88e7f62d"
      },
      "execution_count": 20,
      "outputs": [
        {
          "output_type": "stream",
          "name": "stdout",
          "text": [
            "Print a and b before swap\n",
            "a=  10 b=  20\n",
            "Print a and b after swap\n",
            "a=  20 b=  10\n"
          ]
        }
      ]
    },
    {
      "cell_type": "code",
      "source": [
        "## Remove duplicate elements from a list without converting to tuple"
      ],
      "metadata": {
        "id": "95jkiZKCvUYS"
      },
      "execution_count": null,
      "outputs": []
    },
    {
      "cell_type": "code",
      "source": [
        "A=[1,2,2,3,4,3,3,'a','a']\n",
        "B=list(set(A))\n",
        "print(B)"
      ],
      "metadata": {
        "colab": {
          "base_uri": "https://localhost:8080/"
        },
        "id": "dctwuNHMvqDS",
        "outputId": "2c6d3f57-582c-439d-8637-2e8d9a09f3b7"
      },
      "execution_count": 21,
      "outputs": [
        {
          "output_type": "stream",
          "name": "stdout",
          "text": [
            "[1, 2, 3, 4, 'a']\n"
          ]
        }
      ]
    },
    {
      "cell_type": "code",
      "source": [
        "## Write a loop to print following series 10, 20, 30,  …………………, 300\n",
        "print([i for i in range(10,310,10)])\n",
        "\n"
      ],
      "metadata": {
        "colab": {
          "base_uri": "https://localhost:8080/"
        },
        "id": "Z6FFUKS3wUOT",
        "outputId": "4ab9ef36-e6ca-45d9-dc6d-a1224148773a"
      },
      "execution_count": 22,
      "outputs": [
        {
          "output_type": "stream",
          "name": "stdout",
          "text": [
            "[10, 20, 30, 40, 50, 60, 70, 80, 90, 100, 110, 120, 130, 140, 150, 160, 170, 180, 190, 200, 210, 220, 230, 240, 250, 260, 270, 280, 290, 300]\n"
          ]
        }
      ]
    },
    {
      "cell_type": "code",
      "source": [
        "##Write a loop to print following series 105,98,91,………………………,7\n",
        "print([i for i in range(105,0,-7)])\n"
      ],
      "metadata": {
        "colab": {
          "base_uri": "https://localhost:8080/"
        },
        "id": "b0cHn8RozAoJ",
        "outputId": "c392da9f-52e5-4a94-e8f3-0c0c4e4f4dac"
      },
      "execution_count": 23,
      "outputs": [
        {
          "output_type": "stream",
          "name": "stdout",
          "text": [
            "[105, 98, 91, 84, 77, 70, 63, 56, 49, 42, 35, 28, 21, 14, 7]\n"
          ]
        }
      ]
    },
    {
      "cell_type": "code",
      "source": [
        "## Write a program to print number names of digits in a number like  SAMPLE INPUT 231 \t\tSAMPLE OUTPUT TWO THREE ONE\n",
        "\n",
        "sentence = 'My name is 8454'  #input('Input your sentences')\n",
        "\n",
        "dict = {'1':'ONE', '2': 'TWO', '3':'THREE', '4':'FOUR', '5':'FIVE', '6':'SIX', '7':'SEVEN','8':'EIGHT', '9':'NINE', '0':'ZERO' }\n",
        "\n",
        "Newsent =''\n",
        "\n",
        "for i in sentence:\n",
        "  if i.isdigit():\n",
        "      Newsent = Newsent+' '+dict[i]\n",
        "\n",
        "  else:\n",
        "    Newsent += i\n",
        "\n",
        "print(Newsent)\n",
        "  \n",
        "\n",
        "\n"
      ],
      "metadata": {
        "colab": {
          "base_uri": "https://localhost:8080/"
        },
        "id": "IxUcp2e_-Hl-",
        "outputId": "51a57f94-1432-4396-938c-0c3f842496e9"
      },
      "execution_count": 38,
      "outputs": [
        {
          "output_type": "stream",
          "name": "stdout",
          "text": [
            "My name is  EIGHT FOUR FIVE FOUR\n"
          ]
        }
      ]
    }
  ]
}