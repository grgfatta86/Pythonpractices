{
  "nbformat": 4,
  "nbformat_minor": 0,
  "metadata": {
    "colab": {
      "provenance": [],
      "authorship_tag": "ABX9TyPA4sHVQosfOumvupZUB6nv",
      "include_colab_link": true
    },
    "kernelspec": {
      "name": "python3",
      "display_name": "Python 3"
    },
    "language_info": {
      "name": "python"
    }
  },
  "cells": [
    {
      "cell_type": "markdown",
      "metadata": {
        "id": "view-in-github",
        "colab_type": "text"
      },
      "source": [
        "<a href=\"https://colab.research.google.com/github/grgfatta86/Pythonpractices/blob/main/rohit_class_n_object.ipynb\" target=\"_parent\"><img src=\"https://colab.research.google.com/assets/colab-badge.svg\" alt=\"Open In Colab\"/></a>"
      ]
    },
    {
      "cell_type": "code",
      "execution_count": 5,
      "metadata": {
        "colab": {
          "base_uri": "https://localhost:8080/"
        },
        "id": "z7LPIVPkSd5x",
        "outputId": "4191c74f-7768-44be-fb0e-57356048a522"
      },
      "outputs": [
        {
          "output_type": "stream",
          "name": "stdout",
          "text": [
            "The max speed of vechicle is  90 and the mileage of vehicle is 1000\n"
          ]
        }
      ],
      "source": [
        "# write a python program to create a vehicle class with max_speed and mileage instance attributes.\n",
        "\n",
        "class vehicle:\n",
        "  def __init__(self, max_speed, mileage):\n",
        "    self.max_speed = max_speed\n",
        "    self.mileage = mileage\n",
        "  \n",
        "  def print_info(self):\n",
        "    print(\"The max speed of vechicle is \", self.max_speed, 'and the mileage of vehicle is', self.mileage)\n",
        "\n",
        "car = vehicle (90, 1000)\n",
        "car.print_info()\n",
        "\n",
        "  "
      ]
    },
    {
      "cell_type": "code",
      "source": [
        "# write a python program to create a vehicle class with max_speed and mileage instance attributes.\n",
        "class vehicle:\n",
        "  def __init__(self, max_speed, mileage):\n",
        "    self.max_speed= max_speed\n",
        "    self.mileage = mileage\n",
        "\n",
        "  def print_info(self):\n",
        "    print(\"The max speed of vechicle is \", self.max_speed, \"and the mileage of vehicle is\", self.mileage )\n",
        "\n",
        "car = vehicle(80, 10000)\n",
        "car.print_info()\n"
      ],
      "metadata": {
        "colab": {
          "base_uri": "https://localhost:8080/"
        },
        "id": "vn3ufRgvaLbw",
        "outputId": "fb82e2fd-3db5-45ad-d02e-9fb614bfaad7"
      },
      "execution_count": 6,
      "outputs": [
        {
          "output_type": "stream",
          "name": "stdout",
          "text": [
            "The max speed of vechicle is  80 and the mileage of vehicle is 10000\n"
          ]
        }
      ]
    },
    {
      "cell_type": "code",
      "source": [
        "## Create a child class Bus that will inherit all of the variables and methods of the veichle class.\n",
        "\n",
        "\n",
        "class vehicle:\n",
        "  def __init__(self, color, ac):\n",
        "    self.color = color\n",
        "    self.ac = ac\n",
        "\n",
        "  def print_details(self):\n",
        "    print(\"vechicle color is \", self.color, \"and it has \", self.ac)\n",
        "\n",
        "Bus = vehicle(\"yellow\", \"good ac\")\n",
        "Bus.print_details() \n",
        "\n",
        "### Not the perfect solution....\n"
      ],
      "metadata": {
        "colab": {
          "base_uri": "https://localhost:8080/"
        },
        "id": "x9aCRO3fdOlq",
        "outputId": "80a2f61d-33f6-45c4-fe83-3222342bb521"
      },
      "execution_count": 9,
      "outputs": [
        {
          "output_type": "stream",
          "name": "stdout",
          "text": [
            "vechicle color is  yellow and it has  good ac\n"
          ]
        }
      ]
    },
    {
      "cell_type": "code",
      "source": [
        "### perfect solution is here\n",
        "class vehicle:\n",
        "  def __init__(self, color, ac):\n",
        "    self.color = color\n",
        "    self.ac = ac\n",
        "\n",
        "  def print_details(self):\n",
        "    print(\"vechicle color is \", self.color, \"and it has \", self.ac)\n",
        "\n",
        "class Bus(vehicle):\n",
        "    pass\n",
        "\n",
        "bus_obj = Bus(\"yellow\", \"good ac\")\n",
        "bus_obj.print_details() \n"
      ],
      "metadata": {
        "colab": {
          "base_uri": "https://localhost:8080/"
        },
        "id": "ZUMWIgFlgtXb",
        "outputId": "f2be3042-412a-4b5e-f259-609874cfa060"
      },
      "execution_count": 12,
      "outputs": [
        {
          "output_type": "stream",
          "name": "stdout",
          "text": [
            "vechicle color is  yellow and it has  good ac\n"
          ]
        }
      ]
    },
    {
      "cell_type": "code",
      "source": [
        "## create a Bus clss that inherits from the Vehicle class. Give the capacity argument of Bus.seating_capacity() a default value of 50.\n",
        "\n",
        "class Vehicle:\n",
        "  def __init__(self, capacity):\n",
        "    self.capacity= capacity\n",
        "\n",
        "  def seating_capacity(self):\n",
        "    print(\"seating capacity of Bus is\", self.capacity)\n",
        "\n",
        "Bus = Vehicle(1000)\n",
        "Bus.seating_capacity()"
      ],
      "metadata": {
        "colab": {
          "base_uri": "https://localhost:8080/"
        },
        "id": "Od9R4t4_jT67",
        "outputId": "1d3cdb2a-30ea-4859-d832-593477760039"
      },
      "execution_count": 17,
      "outputs": [
        {
          "output_type": "stream",
          "name": "stdout",
          "text": [
            "seating capacity of Bus is 1000\n"
          ]
        }
      ]
    },
    {
      "cell_type": "code",
      "source": [
        "##from IPython.utils.py3compat import buffer_to_bytes\n",
        "class Vehicle:\n",
        "  def __init__(self, speed, mileage):\n",
        "    self.speed = speed\n",
        "    self.mileage = mileage\n",
        "  \n",
        "  def display(self):\n",
        "    print(\"speed: \", self.speed, \"mileage: \", self.mileage)\n",
        "\n",
        "class bus(Vehicle):\n",
        "  def __init__(self, speed, mileage, capacity):\n",
        "    capacity = 50\n",
        "    super().__init__(speed, mileage)\n",
        "    self.capacity = capacity\n",
        "  def seating_capacity(self):\n",
        "    print(\"seating capacity is: \", self.capacity)\n",
        "\n",
        "bus_obj = bus(64,172,100)\n",
        "bus_obj.display()\n",
        "bus_obj.seating_capacity()\n",
        "\n",
        "bus_obj.capacity =100\n",
        "bus_obj.seating_capacity()"
      ],
      "metadata": {
        "colab": {
          "base_uri": "https://localhost:8080/"
        },
        "id": "33SVI4Onn5pT",
        "outputId": "d6453f73-8dd5-4fc2-daad-b2867f4516b2"
      },
      "execution_count": 20,
      "outputs": [
        {
          "output_type": "stream",
          "name": "stdout",
          "text": [
            "speed:  64 mileage:  172\n",
            "seating capacity is:  50\n",
            "seating capacity is:  100\n"
          ]
        }
      ]
    },
    {
      "cell_type": "code",
      "source": [
        "class Vehicle:\n",
        "  def __init__(self, speed, mileage):\n",
        "    self.speed = speed\n",
        "    self.mileage = mileage\n",
        "  \n",
        "  def display(self):\n",
        "    print(\"speed: \", self.speed)\n",
        "    print(\"mileage: \", self.mileage)\n",
        "\n",
        "class bus(Vehicle):\n",
        "  def __init__(self, speed, mileage, capacity):\n",
        "    capacity = 50\n",
        "    super().__init__(speed, mileage)\n",
        "    self.capacity = capacity\n",
        "\n",
        "  def seating_capacity(self):\n",
        "    print(\"seating capacity is:- \", self.capacity)\n",
        "\n",
        "school_bus = bus (180, 20, 50)\n",
        "school_bus.display()\n",
        "school_bus.seating_capacity()\n",
        "\n",
        "school_bus.capacity=100\n",
        "school_bus.seating_capacity()\n",
        "\n"
      ],
      "metadata": {
        "colab": {
          "base_uri": "https://localhost:8080/"
        },
        "id": "p4qkCR41tpFj",
        "outputId": "c9512e1e-1da5-400d-c057-e84b12f1df78"
      },
      "execution_count": 24,
      "outputs": [
        {
          "output_type": "stream",
          "name": "stdout",
          "text": [
            "speed:  180\n",
            "mileage:  20\n",
            "seating capacity is:-  50\n",
            "seating capacity is:-  100\n"
          ]
        }
      ]
    },
    {
      "cell_type": "code",
      "source": [
        "class Vehicle:\n",
        "  def __init__(self, speed, mileage):\n",
        "    self.speed = speed\n",
        "    self.mileage = mileage\n",
        "  \n",
        "  def display(self):\n",
        "    print(\"speed: \", self.speed)\n",
        "    print(\"mileage: \", self.mileage)\n",
        "\n",
        "class bus(Vehicle):\n",
        "  def __init__(self, speed, mileage, capacity):\n",
        "    capacity = 50\n",
        "    super().__init__(speed, mileage)\n",
        "    self.capacity = capacity\n",
        "\n",
        "  def seating_capacity(self):\n",
        "    print(\"seating capacity is:- \", self.capacity)\n",
        "\n",
        "school_bus = bus (180, 20, 50)\n",
        "print(\"class\")\n",
        "school_bus.display()\n",
        "\n",
        "print(\"default value\")\n",
        "school_bus.seating_capacity()\n",
        "print(\"added value\")\n",
        "school_bus.capacity=100\n",
        "school_bus.seating_capacity()\n",
        "\n",
        "\n",
        "\n",
        "\n",
        "\n"
      ],
      "metadata": {
        "colab": {
          "base_uri": "https://localhost:8080/"
        },
        "id": "w6vDk_YkwQDE",
        "outputId": "dd2f0051-a961-4322-8425-7c6a69825112"
      },
      "execution_count": 35,
      "outputs": [
        {
          "output_type": "stream",
          "name": "stdout",
          "text": [
            "class\n",
            "speed:  180\n",
            "mileage:  20\n",
            "default value\n",
            "seating capacity is:-  50\n",
            "added value\n",
            "seating capacity is:-  100\n"
          ]
        }
      ]
    }
  ]
}