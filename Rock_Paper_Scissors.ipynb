{
  "nbformat": 4,
  "nbformat_minor": 0,
  "metadata": {
    "colab": {
      "provenance": [],
      "include_colab_link": true
    },
    "kernelspec": {
      "name": "python3",
      "display_name": "Python 3"
    },
    "language_info": {
      "name": "python"
    }
  },
  "cells": [
    {
      "cell_type": "markdown",
      "metadata": {
        "id": "view-in-github",
        "colab_type": "text"
      },
      "source": [
        "<a href=\"https://colab.research.google.com/github/grgfatta86/Pythonpractices/blob/main/Rock_Paper_Scissors.ipynb\" target=\"_parent\"><img src=\"https://colab.research.google.com/assets/colab-badge.svg\" alt=\"Open In Colab\"/></a>"
      ]
    },
    {
      "cell_type": "code",
      "source": [
        "# between computer and user\n",
        "# rock, paper , sci.... \n",
        "# if input varies ask user again for correct input\n",
        "# game goes on until user wins\n",
        "# scior < rock\n",
        "# rock < paper\n",
        "# paper < scior"
      ],
      "metadata": {
        "id": "ac9HE6Jb5r6q"
      },
      "execution_count": null,
      "outputs": []
    },
    {
      "cell_type": "code",
      "source": [
        "import random\n",
        "computer_inputs=[\"Rock\",\"Paper\",\"Scissors\"]\n",
        "# Used to exit once user wins\n",
        "user_win=False\n",
        "\n",
        "while user_win==False:\n",
        "  computer = random.choice(computer_inputs)\n",
        "  player=input(\"Please enter the choice from 'Rock','Paper','Scissors' \\n\")\n",
        "  if player.lower() == computer.lower():\n",
        "        print(\"Tie!\")\n",
        "  elif player.lower() == \"Rock\".lower():\n",
        "      if computer.lower() == \"Paper\".lower():\n",
        "          print(\"You lose!\", computer, \"covers\", player)\n",
        "      else:\n",
        "          print(\"You win!\", player, \"smashes\", computer)\n",
        "          user_win=True\n",
        "  elif player.lower() == \"Paper\".lower():\n",
        "      if computer.lower() == \"Scissors\".lower():\n",
        "          print(\"You lose!\", computer, \"cut\", player)\n",
        "      else:\n",
        "          print(\"You win!\", player, \"covers\", computer)\n",
        "          user_win=True\n",
        "  elif player.lower() == \"Scissors\".lower():\n",
        "      if computer.lower() == \"Rock\".lower():\n",
        "          print(\"You lose!\", computer, \"smashes\", player)\n",
        "      else:\n",
        "          print(\"You win!\", player, \"cut\", computer)\n",
        "          user_win=True\n",
        "  else:\n",
        "      print(\"That's not a valid play. Check your spelling!\")"
      ],
      "metadata": {
        "id": "LykcKZ7c7DWy",
        "colab": {
          "base_uri": "https://localhost:8080/"
        },
        "outputId": "329a475c-0b82-4976-a527-c0cfe48a28cf"
      },
      "execution_count": null,
      "outputs": [
        {
          "output_type": "stream",
          "name": "stdout",
          "text": [
            "Please enter the choice from 'Rock','Paper','Scissors' \n",
            "rock\n",
            "You lose! Paper covers rock\n",
            "Please enter the choice from 'Rock','Paper','Scissors' \n",
            "rock\n",
            "Tie!\n",
            "Please enter the choice from 'Rock','Paper','Scissors' \n",
            "rock\n",
            "Tie!\n",
            "Please enter the choice from 'Rock','Paper','Scissors' \n",
            "rock\n",
            "Tie!\n",
            "Please enter the choice from 'Rock','Paper','Scissors' \n",
            "rock\n",
            "You lose! Paper covers rock\n",
            "Please enter the choice from 'Rock','Paper','Scissors' \n",
            "rock\n",
            "You lose! Paper covers rock\n",
            "Please enter the choice from 'Rock','Paper','Scissors' \n",
            "paper\n",
            "You win! paper covers Rock\n"
          ]
        }
      ]
    },
    {
      "cell_type": "code",
      "source": [
        "abcd=False\n",
        "n=87\n",
        "while abcd==False:\n",
        "  if n%2==0:\n",
        "    abcd=True\n",
        "  else:\n",
        "    n=n//2\n",
        "  print(n,abcd)"
      ],
      "metadata": {
        "colab": {
          "base_uri": "https://localhost:8080/"
        },
        "id": "nf8wfMdPr95J",
        "outputId": "e6b6737c-cc9e-416d-f91c-d2d85262c257"
      },
      "execution_count": null,
      "outputs": [
        {
          "output_type": "stream",
          "name": "stdout",
          "text": [
            "43 False\n",
            "21 False\n",
            "10 False\n",
            "10 True\n"
          ]
        }
      ]
    },
    {
      "cell_type": "code",
      "source": [
        "f=open(\"abcd.txt\",\"r\")\n",
        "# how many bytes you want to print\n",
        "print(f.read().split(\"\\n\"))"
      ],
      "metadata": {
        "colab": {
          "base_uri": "https://localhost:8080/"
        },
        "id": "js4I8THDtug7",
        "outputId": "ca42a349-c6b2-4e17-a672-b2655ff3ae14"
      },
      "execution_count": null,
      "outputs": [
        {
          "output_type": "stream",
          "name": "stdout",
          "text": [
            "['hello how are you', 'i am good thank you', 'i am good thank you', 'i am good thank you', 'i am good thank you']\n"
          ]
        }
      ]
    },
    {
      "cell_type": "code",
      "source": [
        "f=open(\"abcd.txt\",\"r\")\n",
        "print(f.readlines())"
      ],
      "metadata": {
        "colab": {
          "base_uri": "https://localhost:8080/"
        },
        "id": "6Zz4s3ezwhAz",
        "outputId": "6f7f2a38-3605-4162-a5ae-be8e0ddcc9c9"
      },
      "execution_count": null,
      "outputs": [
        {
          "output_type": "stream",
          "name": "stdout",
          "text": [
            "['hello how are you\\n', 'i am good thank you\\n', 'i am good thank you\\n', 'i am good thank you\\n', 'i am good thank you']\n"
          ]
        }
      ]
    },
    {
      "cell_type": "code",
      "source": [
        "a=\"Hey whats up\"\n",
        "f=open(\"abcd.txt\",\"w\")\n",
        "f.write(a)\n",
        "f.close()"
      ],
      "metadata": {
        "id": "s61zoryNv758"
      },
      "execution_count": null,
      "outputs": []
    },
    {
      "cell_type": "code",
      "source": [
        "a=\" \\n Hey whats up???\"\n",
        "f=open(\"abcd.txt\",\"a\")\n",
        "f.write(a)\n",
        "f.close()"
      ],
      "metadata": {
        "id": "U8SM3rJyxJnM"
      },
      "execution_count": null,
      "outputs": []
    },
    {
      "cell_type": "code",
      "source": [
        "temp_dict={}\n",
        "for k in range(10):\n",
        "  temp_dict[\"Name\"+str(k)]=k\n"
      ],
      "metadata": {
        "colab": {
          "base_uri": "https://localhost:8080/"
        },
        "id": "vj31I8KFxpm8",
        "outputId": "1b4de969-c517-4f0a-8327-dfb17f0fcd58"
      },
      "execution_count": null,
      "outputs": [
        {
          "output_type": "stream",
          "name": "stdout",
          "text": [
            "{'Name0': 0, 'Name1': 1, 'Name2': 2, 'Name3': 3, 'Name4': 4, 'Name5': 5, 'Name6': 6, 'Name7': 7, 'Name8': 8, 'Name9': 9}\n"
          ]
        }
      ]
    },
    {
      "cell_type": "code",
      "source": [
        "\"\"\"\n",
        "Write this dictonary to text file\n",
        "read the data from text file\n",
        "and convert it back to dictoanary \n",
        "\"\"\""
      ],
      "metadata": {
        "id": "AAmPvHqIyVeU"
      },
      "execution_count": null,
      "outputs": []
    },
    {
      "cell_type": "code",
      "source": [
        "print(temp_dict)\n",
        "f=open(\"dictonary.txt\",'w')\n",
        "for key,value in temp_dict.items():\n",
        "  f.write(str(key)+\",\"+str(value)+\"\\n\")\n",
        "f.close()"
      ],
      "metadata": {
        "id": "e5hgFgZf7Mng"
      },
      "execution_count": null,
      "outputs": []
    },
    {
      "cell_type": "code",
      "source": [
        "empt_dict={}\n",
        "f1=open(\"dictonary.txt\",'r')\n",
        "data=f1.read()s\n",
        "each_line=data.split(\"\\n\")\n",
        "print(\"each line\", each_line)\n",
        "for k in each_line[:-1]:\n",
        "  key,value=k.split(\",\")\n",
        "  empt_dict[key]=int(value)\n",
        "print(empt_dict)"
      ],
      "metadata": {
        "id": "T38nGmSw7Nyf"
      },
      "execution_count": null,
      "outputs": []
    }
  ]
}