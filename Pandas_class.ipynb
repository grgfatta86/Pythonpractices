{
  "nbformat": 4,
  "nbformat_minor": 0,
  "metadata": {
    "colab": {
      "provenance": [],
      "authorship_tag": "ABX9TyMB1ei3FQZvc747fD05zvKA",
      "include_colab_link": true
    },
    "kernelspec": {
      "name": "python3",
      "display_name": "Python 3"
    },
    "language_info": {
      "name": "python"
    }
  },
  "cells": [
    {
      "cell_type": "markdown",
      "metadata": {
        "id": "view-in-github",
        "colab_type": "text"
      },
      "source": [
        "<a href=\"https://colab.research.google.com/github/grgfatta86/Pythonpractices/blob/main/Pandas_class.ipynb\" target=\"_parent\"><img src=\"https://colab.research.google.com/assets/colab-badge.svg\" alt=\"Open In Colab\"/></a>"
      ]
    },
    {
      "cell_type": "code",
      "execution_count": 4,
      "metadata": {
        "id": "n93f38phDfbw"
      },
      "outputs": [],
      "source": [
        "import pandas as pd"
      ]
    },
    {
      "cell_type": "code",
      "source": [
        "df_cvs = pd.read_csv('/content/Churn_Modelling.csv')"
      ],
      "metadata": {
        "id": "w50DfL65Udn8"
      },
      "execution_count": 21,
      "outputs": []
    },
    {
      "cell_type": "code",
      "source": [
        "df_xml = pd.read_xml('/content/Churn_Modelling_xml.xml')"
      ],
      "metadata": {
        "id": "B5GCFKuubE05"
      },
      "execution_count": 23,
      "outputs": []
    },
    {
      "cell_type": "code",
      "source": [
        "df_xlsx = pd.read_excel('/content/Churn_Modelling_xlsx.xlsx')"
      ],
      "metadata": {
        "id": "gpgk3tAeccr9"
      },
      "execution_count": 25,
      "outputs": []
    },
    {
      "cell_type": "code",
      "source": [
        "df_html = pd.read_html('/content/Churn_Modelling_html.html')"
      ],
      "metadata": {
        "id": "7ea-1fIpb239"
      },
      "execution_count": 24,
      "outputs": []
    },
    {
      "cell_type": "code",
      "source": [
        "df_json = pd.read_json('/content/Churn_Modelling_json.json')"
      ],
      "metadata": {
        "id": "14olHAPXcuA4"
      },
      "execution_count": 26,
      "outputs": []
    },
    {
      "cell_type": "code",
      "source": [
        "print(df_cvs, df_xml, df_xlsx, df_html, df_json)"
      ],
      "metadata": {
        "colab": {
          "base_uri": "https://localhost:8080/"
        },
        "id": "7vlHXqmycQsV",
        "outputId": "f5f9ff81-bc11-4c8f-848e-69250cff4c98"
      },
      "execution_count": 27,
      "outputs": [
        {
          "output_type": "stream",
          "name": "stdout",
          "text": [
            "      RowNumber  CustomerId    Surname  CreditScore Geography  Gender  Age  \\\n",
            "0             1    15634602   Hargrave          619    France  Female   42   \n",
            "1             2    15647311       Hill          608     Spain  Female   41   \n",
            "2             3    15619304       Onio          502    France  Female   42   \n",
            "3             4    15701354       Boni          699    France  Female   39   \n",
            "4             5    15737888   Mitchell          850     Spain  Female   43   \n",
            "...         ...         ...        ...          ...       ...     ...  ...   \n",
            "9995       9996    15606229   Obijiaku          771    France    Male   39   \n",
            "9996       9997    15569892  Johnstone          516    France    Male   35   \n",
            "9997       9998    15584532        Liu          709    France  Female   36   \n",
            "9998       9999    15682355  Sabbatini          772   Germany    Male   42   \n",
            "9999      10000    15628319     Walker          792    France  Female   28   \n",
            "\n",
            "      Tenure    Balance  NumOfProducts  HasCrCard  IsActiveMember  \\\n",
            "0          2       0.00              1          1               1   \n",
            "1          1   83807.86              1          0               1   \n",
            "2          8  159660.80              3          1               0   \n",
            "3          1       0.00              2          0               0   \n",
            "4          2  125510.82              1          1               1   \n",
            "...      ...        ...            ...        ...             ...   \n",
            "9995       5       0.00              2          1               0   \n",
            "9996      10   57369.61              1          1               1   \n",
            "9997       7       0.00              1          0               1   \n",
            "9998       3   75075.31              2          1               0   \n",
            "9999       4  130142.79              1          1               0   \n",
            "\n",
            "      EstimatedSalary  Exited  \n",
            "0           101348.88       1  \n",
            "1           112542.58       0  \n",
            "2           113931.57       1  \n",
            "3            93826.63       0  \n",
            "4            79084.10       0  \n",
            "...               ...     ...  \n",
            "9995         96270.64       0  \n",
            "9996        101699.77       0  \n",
            "9997         42085.58       1  \n",
            "9998         92888.52       1  \n",
            "9999         38190.78       0  \n",
            "\n",
            "[10000 rows x 14 columns]       index  RowNumber  CustomerId    Surname  CreditScore Geography  Gender  \\\n",
            "0         0          1    15634602   Hargrave          619    France  Female   \n",
            "1         1          2    15647311       Hill          608     Spain  Female   \n",
            "2         2          3    15619304       Onio          502    France  Female   \n",
            "3         3          4    15701354       Boni          699    France  Female   \n",
            "4         4          5    15737888   Mitchell          850     Spain  Female   \n",
            "...     ...        ...         ...        ...          ...       ...     ...   \n",
            "9995   9995       9996    15606229   Obijiaku          771    France    Male   \n",
            "9996   9996       9997    15569892  Johnstone          516    France    Male   \n",
            "9997   9997       9998    15584532        Liu          709    France  Female   \n",
            "9998   9998       9999    15682355  Sabbatini          772   Germany    Male   \n",
            "9999   9999      10000    15628319     Walker          792    France  Female   \n",
            "\n",
            "      Age  Tenure    Balance  NumOfProducts  HasCrCard  IsActiveMember  \\\n",
            "0      42       2       0.00              1          1               1   \n",
            "1      41       1   83807.86              1          0               1   \n",
            "2      42       8  159660.80              3          1               0   \n",
            "3      39       1       0.00              2          0               0   \n",
            "4      43       2  125510.82              1          1               1   \n",
            "...   ...     ...        ...            ...        ...             ...   \n",
            "9995   39       5       0.00              2          1               0   \n",
            "9996   35      10   57369.61              1          1               1   \n",
            "9997   36       7       0.00              1          0               1   \n",
            "9998   42       3   75075.31              2          1               0   \n",
            "9999   28       4  130142.79              1          1               0   \n",
            "\n",
            "      EstimatedSalary  Exited  \n",
            "0           101348.88       1  \n",
            "1           112542.58       0  \n",
            "2           113931.57       1  \n",
            "3            93826.63       0  \n",
            "4            79084.10       0  \n",
            "...               ...     ...  \n",
            "9995         96270.64       0  \n",
            "9996        101699.77       0  \n",
            "9997         42085.58       1  \n",
            "9998         92888.52       1  \n",
            "9999         38190.78       0  \n",
            "\n",
            "[10000 rows x 15 columns]       Unnamed: 0  RowNumber  CustomerId    Surname  CreditScore Geography  \\\n",
            "0              0          1    15634602   Hargrave          619    France   \n",
            "1              1          2    15647311       Hill          608     Spain   \n",
            "2              2          3    15619304       Onio          502    France   \n",
            "3              3          4    15701354       Boni          699    France   \n",
            "4              4          5    15737888   Mitchell          850     Spain   \n",
            "...          ...        ...         ...        ...          ...       ...   \n",
            "9995        9995       9996    15606229   Obijiaku          771    France   \n",
            "9996        9996       9997    15569892  Johnstone          516    France   \n",
            "9997        9997       9998    15584532        Liu          709    France   \n",
            "9998        9998       9999    15682355  Sabbatini          772   Germany   \n",
            "9999        9999      10000    15628319     Walker          792    France   \n",
            "\n",
            "      Gender  Age  Tenure    Balance  NumOfProducts  HasCrCard  \\\n",
            "0     Female   42       2       0.00              1          1   \n",
            "1     Female   41       1   83807.86              1          0   \n",
            "2     Female   42       8  159660.80              3          1   \n",
            "3     Female   39       1       0.00              2          0   \n",
            "4     Female   43       2  125510.82              1          1   \n",
            "...      ...  ...     ...        ...            ...        ...   \n",
            "9995    Male   39       5       0.00              2          1   \n",
            "9996    Male   35      10   57369.61              1          1   \n",
            "9997  Female   36       7       0.00              1          0   \n",
            "9998    Male   42       3   75075.31              2          1   \n",
            "9999  Female   28       4  130142.79              1          1   \n",
            "\n",
            "      IsActiveMember  EstimatedSalary  Exited  \n",
            "0                  1        101348.88       1  \n",
            "1                  1        112542.58       0  \n",
            "2                  0        113931.57       1  \n",
            "3                  0         93826.63       0  \n",
            "4                  1         79084.10       0  \n",
            "...              ...              ...     ...  \n",
            "9995               0         96270.64       0  \n",
            "9996               1        101699.77       0  \n",
            "9997               1         42085.58       1  \n",
            "9998               0         92888.52       1  \n",
            "9999               0         38190.78       0  \n",
            "\n",
            "[10000 rows x 15 columns] [      Unnamed: 0  RowNumber  CustomerId    Surname  CreditScore Geography  \\\n",
            "0              0          1    15634602   Hargrave          619    France   \n",
            "1              1          2    15647311       Hill          608     Spain   \n",
            "2              2          3    15619304       Onio          502    France   \n",
            "3              3          4    15701354       Boni          699    France   \n",
            "4              4          5    15737888   Mitchell          850     Spain   \n",
            "...          ...        ...         ...        ...          ...       ...   \n",
            "9995        9995       9996    15606229   Obijiaku          771    France   \n",
            "9996        9996       9997    15569892  Johnstone          516    France   \n",
            "9997        9997       9998    15584532        Liu          709    France   \n",
            "9998        9998       9999    15682355  Sabbatini          772   Germany   \n",
            "9999        9999      10000    15628319     Walker          792    France   \n",
            "\n",
            "      Gender  Age  Tenure    Balance  NumOfProducts  HasCrCard  \\\n",
            "0     Female   42       2       0.00              1          1   \n",
            "1     Female   41       1   83807.86              1          0   \n",
            "2     Female   42       8  159660.80              3          1   \n",
            "3     Female   39       1       0.00              2          0   \n",
            "4     Female   43       2  125510.82              1          1   \n",
            "...      ...  ...     ...        ...            ...        ...   \n",
            "9995    Male   39       5       0.00              2          1   \n",
            "9996    Male   35      10   57369.61              1          1   \n",
            "9997  Female   36       7       0.00              1          0   \n",
            "9998    Male   42       3   75075.31              2          1   \n",
            "9999  Female   28       4  130142.79              1          1   \n",
            "\n",
            "      IsActiveMember  EstimatedSalary  Exited  \n",
            "0                  1        101348.88       1  \n",
            "1                  1        112542.58       0  \n",
            "2                  0        113931.57       1  \n",
            "3                  0         93826.63       0  \n",
            "4                  1         79084.10       0  \n",
            "...              ...              ...     ...  \n",
            "9995               0         96270.64       0  \n",
            "9996               1        101699.77       0  \n",
            "9997               1         42085.58       1  \n",
            "9998               0         92888.52       1  \n",
            "9999               0         38190.78       0  \n",
            "\n",
            "[10000 rows x 15 columns]]       RowNumber  CustomerId    Surname  CreditScore Geography  Gender  Age  \\\n",
            "0             1    15634602   Hargrave          619    France  Female   42   \n",
            "1             2    15647311       Hill          608     Spain  Female   41   \n",
            "2             3    15619304       Onio          502    France  Female   42   \n",
            "3             4    15701354       Boni          699    France  Female   39   \n",
            "4             5    15737888   Mitchell          850     Spain  Female   43   \n",
            "...         ...         ...        ...          ...       ...     ...  ...   \n",
            "9995       9996    15606229   Obijiaku          771    France    Male   39   \n",
            "9996       9997    15569892  Johnstone          516    France    Male   35   \n",
            "9997       9998    15584532        Liu          709    France  Female   36   \n",
            "9998       9999    15682355  Sabbatini          772   Germany    Male   42   \n",
            "9999      10000    15628319     Walker          792    France  Female   28   \n",
            "\n",
            "      Tenure    Balance  NumOfProducts  HasCrCard  IsActiveMember  \\\n",
            "0          2       0.00              1          1               1   \n",
            "1          1   83807.86              1          0               1   \n",
            "2          8  159660.80              3          1               0   \n",
            "3          1       0.00              2          0               0   \n",
            "4          2  125510.82              1          1               1   \n",
            "...      ...        ...            ...        ...             ...   \n",
            "9995       5       0.00              2          1               0   \n",
            "9996      10   57369.61              1          1               1   \n",
            "9997       7       0.00              1          0               1   \n",
            "9998       3   75075.31              2          1               0   \n",
            "9999       4  130142.79              1          1               0   \n",
            "\n",
            "      EstimatedSalary  Exited  \n",
            "0           101348.88       1  \n",
            "1           112542.58       0  \n",
            "2           113931.57       1  \n",
            "3            93826.63       0  \n",
            "4            79084.10       0  \n",
            "...               ...     ...  \n",
            "9995         96270.64       0  \n",
            "9996        101699.77       0  \n",
            "9997         42085.58       1  \n",
            "9998         92888.52       1  \n",
            "9999         38190.78       0  \n",
            "\n",
            "[10000 rows x 14 columns]\n"
          ]
        }
      ]
    },
    {
      "cell_type": "code",
      "source": [
        "print(df1)"
      ],
      "metadata": {
        "colab": {
          "base_uri": "https://localhost:8080/"
        },
        "id": "sqFESaRsUldd",
        "outputId": "e87c325e-2abb-4e8d-bae3-258bb7b6e4eb"
      },
      "execution_count": 14,
      "outputs": [
        {
          "output_type": "stream",
          "name": "stdout",
          "text": [
            "      RowNumber  CustomerId    Surname  CreditScore Geography  Gender  Age  \\\n",
            "0             1    15634602   Hargrave          619    France  Female   42   \n",
            "1             2    15647311       Hill          608     Spain  Female   41   \n",
            "2             3    15619304       Onio          502    France  Female   42   \n",
            "3             4    15701354       Boni          699    France  Female   39   \n",
            "4             5    15737888   Mitchell          850     Spain  Female   43   \n",
            "...         ...         ...        ...          ...       ...     ...  ...   \n",
            "9995       9996    15606229   Obijiaku          771    France    Male   39   \n",
            "9996       9997    15569892  Johnstone          516    France    Male   35   \n",
            "9997       9998    15584532        Liu          709    France  Female   36   \n",
            "9998       9999    15682355  Sabbatini          772   Germany    Male   42   \n",
            "9999      10000    15628319     Walker          792    France  Female   28   \n",
            "\n",
            "      Tenure    Balance  NumOfProducts  HasCrCard  IsActiveMember  \\\n",
            "0          2       0.00              1          1               1   \n",
            "1          1   83807.86              1          0               1   \n",
            "2          8  159660.80              3          1               0   \n",
            "3          1       0.00              2          0               0   \n",
            "4          2  125510.82              1          1               1   \n",
            "...      ...        ...            ...        ...             ...   \n",
            "9995       5       0.00              2          1               0   \n",
            "9996      10   57369.61              1          1               1   \n",
            "9997       7       0.00              1          0               1   \n",
            "9998       3   75075.31              2          1               0   \n",
            "9999       4  130142.79              1          1               0   \n",
            "\n",
            "      EstimatedSalary  Exited  \n",
            "0           101348.88       1  \n",
            "1           112542.58       0  \n",
            "2           113931.57       1  \n",
            "3            93826.63       0  \n",
            "4            79084.10       0  \n",
            "...               ...     ...  \n",
            "9995         96270.64       0  \n",
            "9996        101699.77       0  \n",
            "9997         42085.58       1  \n",
            "9998         92888.52       1  \n",
            "9999         38190.78       0  \n",
            "\n",
            "[10000 rows x 14 columns]\n"
          ]
        }
      ]
    },
    {
      "cell_type": "code",
      "source": [
        "df1.to_html('Churn_Modelling_html.html')\n"
      ],
      "metadata": {
        "id": "8ydOyOC8Uvix"
      },
      "execution_count": 11,
      "outputs": []
    },
    {
      "cell_type": "code",
      "source": [
        "df1.to_excel('Churn_Modelling_xlsx.xlsx')"
      ],
      "metadata": {
        "id": "Wx483WCmWWqp"
      },
      "execution_count": 13,
      "outputs": []
    },
    {
      "cell_type": "code",
      "source": [
        "df1.to_json('Churn_Modelling_json.json')"
      ],
      "metadata": {
        "id": "na17JIoxW-nU"
      },
      "execution_count": 16,
      "outputs": []
    },
    {
      "cell_type": "code",
      "source": [
        "df1.to_xml('Churn_Modelling_xml.xml')"
      ],
      "metadata": {
        "id": "2rhslKbmY_7a"
      },
      "execution_count": 19,
      "outputs": []
    }
  ]
}