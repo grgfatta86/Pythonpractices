{
  "nbformat": 4,
  "nbformat_minor": 0,
  "metadata": {
    "colab": {
      "provenance": [],
      "authorship_tag": "ABX9TyNwlXKkJ41px+wvOa/nGkCY",
      "include_colab_link": true
    },
    "kernelspec": {
      "name": "python3",
      "display_name": "Python 3"
    },
    "language_info": {
      "name": "python"
    }
  },
  "cells": [
    {
      "cell_type": "markdown",
      "metadata": {
        "id": "view-in-github",
        "colab_type": "text"
      },
      "source": [
        "<a href=\"https://colab.research.google.com/github/grgfatta86/Pythonpractices/blob/main/Rohit_class_and_or_or.ipynb\" target=\"_parent\"><img src=\"https://colab.research.google.com/assets/colab-badge.svg\" alt=\"Open In Colab\"/></a>"
      ]
    },
    {
      "cell_type": "code",
      "execution_count": 3,
      "metadata": {
        "colab": {
          "base_uri": "https://localhost:8080/"
        },
        "id": "RRvHghW8hsuO",
        "outputId": "e86afc37-07cc-404d-fa9f-8cb1965617ce"
      },
      "outputs": [
        {
          "output_type": "stream",
          "name": "stdout",
          "text": [
            "your are eligible for voiting\n"
          ]
        }
      ],
      "source": [
        "# write a program to check if a person if eligible for voting or not?\n",
        "age=25\n",
        "if age>19:\n",
        "  print(\"your are eligible for voiting\")\n",
        "else:\n",
        "  print(\"your are not eligible for voting\")"
      ]
    },
    {
      "cell_type": "code",
      "source": [
        "age=25\n",
        "if age<20:\n",
        "  print(\"eligible\")\n",
        "else:\n",
        "  print(\"not\")\n",
        "\n",
        "print(\"hi, how are yuo?\")"
      ],
      "metadata": {
        "colab": {
          "base_uri": "https://localhost:8080/"
        },
        "id": "4KyosDmOkT_E",
        "outputId": "1668fc0f-5014-486c-9224-bc380daa9479"
      },
      "execution_count": 9,
      "outputs": [
        {
          "output_type": "stream",
          "name": "stdout",
          "text": [
            "not\n",
            "hi, how are yuo?\n"
          ]
        }
      ]
    },
    {
      "cell_type": "code",
      "source": [
        "# write a program to check if a number is even or odd?\n",
        "\n",
        "num=7\n",
        "if num//2==0 or num%2==0:\n",
        "  print(\"even\")\n",
        "\n",
        "else:\n",
        "  print(\"odd\")\n",
        "\n"
      ],
      "metadata": {
        "colab": {
          "base_uri": "https://localhost:8080/"
        },
        "id": "1EH4D95pkrf7",
        "outputId": "99b4b941-e3fb-4e30-8ac5-6e72bd088ca1"
      },
      "execution_count": 20,
      "outputs": [
        {
          "output_type": "stream",
          "name": "stdout",
          "text": [
            "odd\n"
          ]
        }
      ]
    },
    {
      "cell_type": "code",
      "source": [
        "# write a program to check if a number is even or odd?\n",
        "num=105\n",
        "if num//2==0 or num%2==0:\n",
        "  print(\"even\")\n",
        "\n",
        "else:\n",
        "  print(\"odd\")\n",
        "\n",
        "\n"
      ],
      "metadata": {
        "colab": {
          "base_uri": "https://localhost:8080/"
        },
        "id": "WGRF-dn9nF7S",
        "outputId": "a4338d6b-802e-41e3-fff5-3aaa702ec762"
      },
      "execution_count": 23,
      "outputs": [
        {
          "output_type": "stream",
          "name": "stdout",
          "text": [
            "odd\n"
          ]
        }
      ]
    },
    {
      "cell_type": "code",
      "source": [
        "## write a program to check if a number is divisible by 7 or not?\n",
        "\n",
        "a=77\n",
        "if a%7==0:\n",
        "  print(\"yes divisble by 7\")\n",
        "\n",
        "else:\n",
        "  print(\"not divisible by 7\")\n"
      ],
      "metadata": {
        "colab": {
          "base_uri": "https://localhost:8080/"
        },
        "id": "JtwSn2vroWEP",
        "outputId": "72ee4782-1e9f-4f2e-b3b6-5f42a09d651e"
      },
      "execution_count": 27,
      "outputs": [
        {
          "output_type": "stream",
          "name": "stdout",
          "text": [
            "yes divisble by 7\n"
          ]
        }
      ]
    },
    {
      "cell_type": "code",
      "source": [
        "## Write a program to print \"hello\" if a number is a multiple of 5 else print \"Bye\"\n",
        "\n",
        "a=51\n",
        "if a%5==0:\n",
        "  print(\"hello\")\n",
        "else:\n",
        "  print(\"bye\")\n"
      ],
      "metadata": {
        "colab": {
          "base_uri": "https://localhost:8080/"
        },
        "id": "-aHGwvR241MM",
        "outputId": "f5779013-092d-487c-efd2-ea296e86916b"
      },
      "execution_count": 30,
      "outputs": [
        {
          "output_type": "stream",
          "name": "stdout",
          "text": [
            "bye\n"
          ]
        }
      ]
    },
    {
      "cell_type": "code",
      "source": [
        "## Write a program to calculate electricity bill according to following criteria\n",
        "\n",
        "# first 100 units       No charge\n",
        "# Next 100 units        $5/unit\n",
        "# after 200 units       & 10/unit"
      ],
      "metadata": {
        "id": "k1th4K0_6ckD"
      },
      "execution_count": null,
      "outputs": []
    },
    {
      "cell_type": "code",
      "source": [
        "a = 250\n",
        "if a<100:\n",
        "  print(\"no charge\")\n",
        "if a == (a-100)*5:\n",
        "  print(\"charge :- \")\n",
        "##if a == (a-100)*5+ (a-((a-100)*5))*10\n",
        "  ##print(\"charge after:- \")\n"
      ],
      "metadata": {
        "id": "_KZSvKHv6-pF"
      },
      "execution_count": 39,
      "outputs": []
    }
  ]
}