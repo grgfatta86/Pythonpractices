{
  "nbformat": 4,
  "nbformat_minor": 0,
  "metadata": {
    "colab": {
      "provenance": [],
      "include_colab_link": true
    },
    "kernelspec": {
      "name": "python3",
      "display_name": "Python 3"
    },
    "language_info": {
      "name": "python"
    }
  },
  "cells": [
    {
      "cell_type": "markdown",
      "metadata": {
        "id": "view-in-github",
        "colab_type": "text"
      },
      "source": [
        "<a href=\"https://colab.research.google.com/github/grgfatta86/Pythonpractices/blob/main/EMS_CASE_STUDY.ipynb\" target=\"_parent\"><img src=\"https://colab.research.google.com/assets/colab-badge.svg\" alt=\"Open In Colab\"/></a>"
      ]
    },
    {
      "cell_type": "code",
      "execution_count": null,
      "metadata": {
        "id": "vG0U7lrh5W3D"
      },
      "outputs": [],
      "source": [
        "##Write a function which takes in 5 arguments id,first name,last name,salary,department and puts all details in list if ID already not exists\n",
        "def add_employee(first_name,last_name,emp_id,salary,department):\n",
        "  if emp_id not in emp_id_list:\n",
        "    emp_first_name_list.append(first_name)\n",
        "    emp_last_name_list.append(last_name)\n",
        "    emp_id_list.append(emp_id)\n",
        "    emp_salary_list.append(salary)\n",
        "    emp_department_list.append(department)\n",
        "  else:\n",
        "    print(\"Employee ID Already Exists Try updating the details for the Employee\")\n",
        "\n",
        "def remove_employee_by_id(emp_id):\n",
        "  try:\n",
        "    index_to_remove=emp_id_list.index(emp_id)\n",
        "    emp_first_name_list.pop(index_to_remove)\n",
        "    emp_last_name_list.pop(index_to_remove)\n",
        "    emp_id_list.pop(index_to_remove)\n",
        "    emp_salary_list.pop(index_to_remove)\n",
        "    emp_department_list.pop(index_to_remove)\n",
        "    print(\"Employee Rem\")\n",
        "  except:\n",
        "    print(\"Id Doesnt not Exists Please verify the input once\")\n"
      ]
    },
    {
      "cell_type": "code",
      "source": [
        "user_input=-1\n",
        "\n",
        "while user_input!=7:\n",
        "  emp_first_name_list=[]\n",
        "  emp_last_name_list=[]\n",
        "  emp_id_list=[]\n",
        "  emp_salary_list=[]\n",
        "  emp_department_list=[]\n",
        "\n",
        "  print(\"1) Add Employee\")\n",
        "  print(\"2) Remove Employee by id \")\n",
        "  print(\"3) Remove Employee by name \")\n",
        "  print(\"4) Update Details of Employee by ID \")\n",
        "  print(\"5) Display details of Employee by ID \")\n",
        "  print(\"6) Display details of ALL Employee \")\n",
        "  print(\"7) Exit the EMS system\")\n",
        "\n",
        "  user_input=int(input(\"Please enter a Choice between 1-7 :- \"))\n",
        "  \n",
        "  if user_input==1:\n",
        "\n",
        "    first_name= input(\"Please enter the first name \")\n",
        "    last_name= input(\"Please enter the last name \")\n",
        "    salary= input(\"Please enter the salary \")\n",
        "    empy_id= input(\"Please enter the Employee ID \")\n",
        "    department= input(\"Please enter the Department \")\n",
        "    add_employee(first_name,last_name,salary,empy_id,department)\n",
        "    print(\"Confirmation that record is added\",emp_first_name_list)\n",
        "  elif user_input==2:\n",
        "    empy_id= input(\"Please enter the Employee ID to Remove :- \")\n",
        "    remove_employee_by_id(empy_id)\n",
        "  elif user_input==7:\n",
        "    print(\"Bye\")"
      ],
      "metadata": {
        "id": "YgJZd9Lp5XH6"
      },
      "execution_count": null,
      "outputs": []
    },
    {
      "cell_type": "code",
      "source": [
        "# remove employee by id\n",
        "# find if the id exists in the list emp_id_list, if it exists find the index and remove from all lists\n",
        "# if not exists tell user no such ID exists"
      ],
      "metadata": {
        "id": "jr9fEH-f5j0T"
      },
      "execution_count": null,
      "outputs": []
    },
    {
      "cell_type": "code",
      "source": [
        "# 1 Add employee\n",
        "# 2 remove employee by id\n",
        "# 3 remove employee by name\n",
        "# 4 Update Details\n",
        "# 5 print details by ID\n",
        "# 6 print details of all employees\n",
        "# 7 exit"
      ],
      "metadata": {
        "id": "VWj52mZz5nDy"
      },
      "execution_count": null,
      "outputs": []
    }
  ]
}