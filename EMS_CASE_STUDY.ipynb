{
  "nbformat": 4,
  "nbformat_minor": 0,
  "metadata": {
    "colab": {
      "provenance": [],
      "include_colab_link": true
    },
    "kernelspec": {
      "name": "python3",
      "display_name": "Python 3"
    },
    "language_info": {
      "name": "python"
    }
  },
  "cells": [
    {
      "cell_type": "markdown",
      "metadata": {
        "id": "view-in-github",
        "colab_type": "text"
      },
      "source": [
        "<a href=\"https://colab.research.google.com/github/grgfatta86/Pythonpractices/blob/main/EMS_CASE_STUDY.ipynb\" target=\"_parent\"><img src=\"https://colab.research.google.com/assets/colab-badge.svg\" alt=\"Open In Colab\"/></a>"
      ]
    },
    {
      "cell_type": "code",
      "execution_count": null,
      "metadata": {
        "id": "vG0U7lrh5W3D"
      },
      "outputs": [],
      "source": [
        "def add_employee(first_name,last_name,emp_id,salary,department):\n",
        "  if emp_id not in emp_id_list:\n",
        "    emp_first_name_list.append(first_name)\n",
        "    emp_last_name_list.append(last_name)\n",
        "    emp_id_list.append(emp_id)\n",
        "    emp_salary_list.append(salary)\n",
        "    emp_department_list.append(department)\n",
        "    print(\"Record Added Successfully\")\n",
        "  else:\n",
        "    print(\"Employee ID Already Exists Try updating the details for the Employee\")\n",
        "\n",
        "\n",
        "def remove_employee_by_id(emp_id):\n",
        "  try:\n",
        "    index_to_remove=emp_id_list.index(emp_id)\n",
        "    emp_first_name_list.pop(index_to_remove)\n",
        "    emp_last_name_list.pop(index_to_remove)\n",
        "    emp_id_list.pop(index_to_remove)\n",
        "    emp_salary_list.pop(index_to_remove)\n",
        "    emp_department_list.pop(index_to_remove)\n",
        "    print(\"Employee Removed Successfully !!\")\n",
        "  except :\n",
        "    print(\"Id Doesnt not Exists Please verify the input once\")\n"
      ]
    },
    {
      "cell_type": "code",
      "source": [
        "user_input=-1\n",
        "emp_first_name_list=[]\n",
        "emp_last_name_list=[]\n",
        "emp_id_list=[]\n",
        "emp_salary_list=[]\n",
        "emp_department_list=[]\n",
        "while user_input!=7:\n",
        "\n",
        "  print(\"\\n\")\n",
        "  print(\"1) Add Employee\")\n",
        "  print(\"2) Remove Employee by id \")\n",
        "  print(\"3) Remove Employee by name \")\n",
        "  print(\"4) Update Details of Employee by ID \")\n",
        "  print(\"5) Display details of Employee by ID \")\n",
        "  print(\"6) Display details of ALL Employee \")\n",
        "  print(\"7) Exit the EMS system\")\n",
        "\n",
        "  user_input=int(input(\"Please enter a Choice between 1-7 :- \"))\n",
        "  \n",
        "  if user_input==1:\n",
        "\n",
        "    first_name= input(\"Please enter the first name \")\n",
        "    last_name= input(\"Please enter the last name \")\n",
        "    salary= input(\"Please enter the salary \")\n",
        "    empy_id= input(\"Please enter the Employee ID \")\n",
        "    department= input(\"Please enter the Department \")\n",
        "    add_employee(first_name,last_name,empy_id,salary,department)\n",
        "    print(\"Confirmation that record is added\",emp_first_name_list)\n",
        "  \n",
        "  elif user_input==2:\n",
        "    empy_id= input(\"Please enter the Employee ID to Remove :- \")\n",
        "    remove_employee_by_id(empy_id)\n",
        "\n",
        "  elif user_input==7:\n",
        "    print(\"Bye\")"
      ],
      "metadata": {
        "id": "YgJZd9Lp5XH6",
        "colab": {
          "base_uri": "https://localhost:8080/",
          "height": 1000
        },
        "outputId": "a2d1f8a4-c4b3-4ebc-99cd-f86770d6a160"
      },
      "execution_count": null,
      "outputs": [
        {
          "output_type": "stream",
          "name": "stdout",
          "text": [
            "1) Add Employee\n",
            "2) Remove Employee by id \n",
            "3) Remove Employee by name \n",
            "4) Update Details of Employee by ID \n",
            "5) Display details of Employee by ID \n",
            "6) Display details of ALL Employee \n",
            "7) Exit the EMS system\n",
            "Please enter a Choice between 1-7 :- 1\n",
            "Please enter the first name shubham\n",
            "Please enter the last name gupta\n",
            "Please enter the salary 300000\n",
            "Please enter the Employee ID 1\n",
            "Please enter the Department sddasdasd\n",
            "check values  shubham gupta 1 300000 sddasdasd\n",
            "['shubham']\n",
            "['gupta']\n",
            "['1']\n",
            "['sddasdasd']\n",
            "['shubham']\n",
            "Confirmation that record is added ['shubham']\n",
            "1) Add Employee\n",
            "2) Remove Employee by id \n",
            "3) Remove Employee by name \n",
            "4) Update Details of Employee by ID \n",
            "5) Display details of Employee by ID \n",
            "6) Display details of ALL Employee \n",
            "7) Exit the EMS system\n",
            "Please enter a Choice between 1-7 :- 2\n",
            "Please enter the Employee ID to Remove :- 1\n",
            "['shubham']\n",
            "['gupta']\n",
            "['1']\n",
            "['sddasdasd']\n",
            "['shubham']\n",
            "Employee Removed Successfully !!\n",
            "1) Add Employee\n",
            "2) Remove Employee by id \n",
            "3) Remove Employee by name \n",
            "4) Update Details of Employee by ID \n",
            "5) Display details of Employee by ID \n",
            "6) Display details of ALL Employee \n",
            "7) Exit the EMS system\n"
          ]
        },
        {
          "output_type": "error",
          "ename": "KeyboardInterrupt",
          "evalue": "ignored",
          "traceback": [
            "\u001b[0;31m---------------------------------------------------------------------------\u001b[0m",
            "\u001b[0;31mKeyboardInterrupt\u001b[0m                         Traceback (most recent call last)",
            "\u001b[0;32m<ipython-input-16-39c0d11a9f1c>\u001b[0m in \u001b[0;36m<cell line: 7>\u001b[0;34m()\u001b[0m\n\u001b[1;32m     16\u001b[0m   \u001b[0mprint\u001b[0m\u001b[0;34m(\u001b[0m\u001b[0;34m\"7) Exit the EMS system\"\u001b[0m\u001b[0;34m)\u001b[0m\u001b[0;34m\u001b[0m\u001b[0;34m\u001b[0m\u001b[0m\n\u001b[1;32m     17\u001b[0m \u001b[0;34m\u001b[0m\u001b[0m\n\u001b[0;32m---> 18\u001b[0;31m   \u001b[0muser_input\u001b[0m\u001b[0;34m=\u001b[0m\u001b[0mint\u001b[0m\u001b[0;34m(\u001b[0m\u001b[0minput\u001b[0m\u001b[0;34m(\u001b[0m\u001b[0;34m\"Please enter a Choice between 1-7 :- \"\u001b[0m\u001b[0;34m)\u001b[0m\u001b[0;34m)\u001b[0m\u001b[0;34m\u001b[0m\u001b[0;34m\u001b[0m\u001b[0m\n\u001b[0m\u001b[1;32m     19\u001b[0m \u001b[0;34m\u001b[0m\u001b[0m\n\u001b[1;32m     20\u001b[0m   \u001b[0;32mif\u001b[0m \u001b[0muser_input\u001b[0m\u001b[0;34m==\u001b[0m\u001b[0;36m1\u001b[0m\u001b[0;34m:\u001b[0m\u001b[0;34m\u001b[0m\u001b[0;34m\u001b[0m\u001b[0m\n",
            "\u001b[0;32m/usr/local/lib/python3.10/dist-packages/ipykernel/kernelbase.py\u001b[0m in \u001b[0;36mraw_input\u001b[0;34m(self, prompt)\u001b[0m\n\u001b[1;32m    849\u001b[0m                 \u001b[0;34m\"raw_input was called, but this frontend does not support input requests.\"\u001b[0m\u001b[0;34m\u001b[0m\u001b[0;34m\u001b[0m\u001b[0m\n\u001b[1;32m    850\u001b[0m             )\n\u001b[0;32m--> 851\u001b[0;31m         return self._input_request(str(prompt),\n\u001b[0m\u001b[1;32m    852\u001b[0m             \u001b[0mself\u001b[0m\u001b[0;34m.\u001b[0m\u001b[0m_parent_ident\u001b[0m\u001b[0;34m,\u001b[0m\u001b[0;34m\u001b[0m\u001b[0;34m\u001b[0m\u001b[0m\n\u001b[1;32m    853\u001b[0m             \u001b[0mself\u001b[0m\u001b[0;34m.\u001b[0m\u001b[0m_parent_header\u001b[0m\u001b[0;34m,\u001b[0m\u001b[0;34m\u001b[0m\u001b[0;34m\u001b[0m\u001b[0m\n",
            "\u001b[0;32m/usr/local/lib/python3.10/dist-packages/ipykernel/kernelbase.py\u001b[0m in \u001b[0;36m_input_request\u001b[0;34m(self, prompt, ident, parent, password)\u001b[0m\n\u001b[1;32m    893\u001b[0m             \u001b[0;32mexcept\u001b[0m \u001b[0mKeyboardInterrupt\u001b[0m\u001b[0;34m:\u001b[0m\u001b[0;34m\u001b[0m\u001b[0;34m\u001b[0m\u001b[0m\n\u001b[1;32m    894\u001b[0m                 \u001b[0;31m# re-raise KeyboardInterrupt, to truncate traceback\u001b[0m\u001b[0;34m\u001b[0m\u001b[0;34m\u001b[0m\u001b[0m\n\u001b[0;32m--> 895\u001b[0;31m                 \u001b[0;32mraise\u001b[0m \u001b[0mKeyboardInterrupt\u001b[0m\u001b[0;34m(\u001b[0m\u001b[0;34m\"Interrupted by user\"\u001b[0m\u001b[0;34m)\u001b[0m \u001b[0;32mfrom\u001b[0m \u001b[0;32mNone\u001b[0m\u001b[0;34m\u001b[0m\u001b[0;34m\u001b[0m\u001b[0m\n\u001b[0m\u001b[1;32m    896\u001b[0m             \u001b[0;32mexcept\u001b[0m \u001b[0mException\u001b[0m \u001b[0;32mas\u001b[0m \u001b[0me\u001b[0m\u001b[0;34m:\u001b[0m\u001b[0;34m\u001b[0m\u001b[0;34m\u001b[0m\u001b[0m\n\u001b[1;32m    897\u001b[0m                 \u001b[0mself\u001b[0m\u001b[0;34m.\u001b[0m\u001b[0mlog\u001b[0m\u001b[0;34m.\u001b[0m\u001b[0mwarning\u001b[0m\u001b[0;34m(\u001b[0m\u001b[0;34m\"Invalid Message:\"\u001b[0m\u001b[0;34m,\u001b[0m \u001b[0mexc_info\u001b[0m\u001b[0;34m=\u001b[0m\u001b[0;32mTrue\u001b[0m\u001b[0;34m)\u001b[0m\u001b[0;34m\u001b[0m\u001b[0;34m\u001b[0m\u001b[0m\n",
            "\u001b[0;31mKeyboardInterrupt\u001b[0m: Interrupted by user"
          ]
        }
      ]
    },
    {
      "cell_type": "code",
      "source": [
        "# remove employee by id\n",
        "# find if the id exists in the list emp_id_list, if it exists find the index and remove from all lists\n",
        "# if not exists tell user no such ID exists"
      ],
      "metadata": {
        "id": "jr9fEH-f5j0T"
      },
      "execution_count": null,
      "outputs": []
    },
    {
      "cell_type": "code",
      "source": [
        "# 5 parameters firstname,lastname,salary,id,department\n",
        "\n",
        "# 1 Add employee (firstname,lastname,salary,id,department)\n",
        "# 2 remove employee by id # 7 employees added find the correct id and remove # 6 will remain\n",
        "\n",
        "# 3 remove employee by name\n",
        "# 4 Update Details\n",
        "# 5 print details by ID\n",
        "# 6 print details of all employees\n",
        "# 7 exit"
      ],
      "metadata": {
        "id": "VWj52mZz5nDy"
      },
      "execution_count": null,
      "outputs": []
    },
    {
      "cell_type": "code",
      "source": [
        "a=[11,22,33,44,55,66,77]\n",
        "a.pop(4)\n",
        "print(a)"
      ],
      "metadata": {
        "colab": {
          "base_uri": "https://localhost:8080/"
        },
        "id": "n9eNcgZd2Vmh",
        "outputId": "e6466a43-5939-4e83-d969-b629e8cb6b6e"
      },
      "execution_count": null,
      "outputs": [
        {
          "output_type": "stream",
          "name": "stdout",
          "text": [
            "[11, 22, 33, 44, 66, 77]\n"
          ]
        }
      ]
    },
    {
      "cell_type": "code",
      "source": [
        "# Write a function which takes in 5 arguments id,first name,last name,salary,department and puts all details in list if ID already not exists"
      ],
      "metadata": {
        "id": "jzcvwObh3Ly6"
      },
      "execution_count": null,
      "outputs": []
    }
  ]
}